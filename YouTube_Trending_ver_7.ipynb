{
 "cells": [
  {
   "cell_type": "code",
   "execution_count": 1,
   "id": "754a1f1e-fd04-4ce3-97d6-c448a9801138",
   "metadata": {
    "scrolled": true
   },
   "outputs": [
    {
     "name": "stdout",
     "output_type": "stream",
     "text": [
      "Requirement already satisfied: google-api-python-client in c:\\users\\sraza\\anaconda3\\lib\\site-packages (2.125.0)\n",
      "Requirement already satisfied: httplib2<1.dev0,>=0.19.0 in c:\\users\\sraza\\anaconda3\\lib\\site-packages (from google-api-python-client) (0.22.0)\n",
      "Requirement already satisfied: google-auth!=2.24.0,!=2.25.0,<3.0.0.dev0,>=1.32.0 in c:\\users\\sraza\\anaconda3\\lib\\site-packages (from google-api-python-client) (2.29.0)\n",
      "Requirement already satisfied: google-auth-httplib2<1.0.0,>=0.2.0 in c:\\users\\sraza\\anaconda3\\lib\\site-packages (from google-api-python-client) (0.2.0)\n",
      "Requirement already satisfied: google-api-core!=2.0.*,!=2.1.*,!=2.2.*,!=2.3.0,<3.0.0.dev0,>=1.31.5 in c:\\users\\sraza\\anaconda3\\lib\\site-packages (from google-api-python-client) (2.18.0)\n",
      "Requirement already satisfied: uritemplate<5,>=3.0.1 in c:\\users\\sraza\\anaconda3\\lib\\site-packages (from google-api-python-client) (4.1.1)\n",
      "Requirement already satisfied: googleapis-common-protos<2.0.dev0,>=1.56.2 in c:\\users\\sraza\\anaconda3\\lib\\site-packages (from google-api-core!=2.0.*,!=2.1.*,!=2.2.*,!=2.3.0,<3.0.0.dev0,>=1.31.5->google-api-python-client) (1.63.0)\n",
      "Requirement already satisfied: protobuf!=3.20.0,!=3.20.1,!=4.21.0,!=4.21.1,!=4.21.2,!=4.21.3,!=4.21.4,!=4.21.5,<5.0.0.dev0,>=3.19.5 in c:\\users\\sraza\\anaconda3\\lib\\site-packages (from google-api-core!=2.0.*,!=2.1.*,!=2.2.*,!=2.3.0,<3.0.0.dev0,>=1.31.5->google-api-python-client) (3.20.3)\n",
      "Requirement already satisfied: proto-plus<2.0.0dev,>=1.22.3 in c:\\users\\sraza\\anaconda3\\lib\\site-packages (from google-api-core!=2.0.*,!=2.1.*,!=2.2.*,!=2.3.0,<3.0.0.dev0,>=1.31.5->google-api-python-client) (1.23.0)\n",
      "Requirement already satisfied: requests<3.0.0.dev0,>=2.18.0 in c:\\users\\sraza\\anaconda3\\lib\\site-packages (from google-api-core!=2.0.*,!=2.1.*,!=2.2.*,!=2.3.0,<3.0.0.dev0,>=1.31.5->google-api-python-client) (2.31.0)\n",
      "Requirement already satisfied: cachetools<6.0,>=2.0.0 in c:\\users\\sraza\\anaconda3\\lib\\site-packages (from google-auth!=2.24.0,!=2.25.0,<3.0.0.dev0,>=1.32.0->google-api-python-client) (4.2.2)\n",
      "Requirement already satisfied: pyasn1-modules>=0.2.1 in c:\\users\\sraza\\anaconda3\\lib\\site-packages (from google-auth!=2.24.0,!=2.25.0,<3.0.0.dev0,>=1.32.0->google-api-python-client) (0.2.8)\n",
      "Requirement already satisfied: rsa<5,>=3.1.4 in c:\\users\\sraza\\anaconda3\\lib\\site-packages (from google-auth!=2.24.0,!=2.25.0,<3.0.0.dev0,>=1.32.0->google-api-python-client) (4.9)\n",
      "Requirement already satisfied: pyparsing!=3.0.0,!=3.0.1,!=3.0.2,!=3.0.3,<4,>=2.4.2 in c:\\users\\sraza\\anaconda3\\lib\\site-packages (from httplib2<1.dev0,>=0.19.0->google-api-python-client) (3.0.9)\n",
      "Requirement already satisfied: pyasn1<0.5.0,>=0.4.6 in c:\\users\\sraza\\anaconda3\\lib\\site-packages (from pyasn1-modules>=0.2.1->google-auth!=2.24.0,!=2.25.0,<3.0.0.dev0,>=1.32.0->google-api-python-client) (0.4.8)\n",
      "Requirement already satisfied: charset-normalizer<4,>=2 in c:\\users\\sraza\\anaconda3\\lib\\site-packages (from requests<3.0.0.dev0,>=2.18.0->google-api-core!=2.0.*,!=2.1.*,!=2.2.*,!=2.3.0,<3.0.0.dev0,>=1.31.5->google-api-python-client) (2.0.4)\n",
      "Requirement already satisfied: idna<4,>=2.5 in c:\\users\\sraza\\anaconda3\\lib\\site-packages (from requests<3.0.0.dev0,>=2.18.0->google-api-core!=2.0.*,!=2.1.*,!=2.2.*,!=2.3.0,<3.0.0.dev0,>=1.31.5->google-api-python-client) (3.4)\n",
      "Requirement already satisfied: urllib3<3,>=1.21.1 in c:\\users\\sraza\\anaconda3\\lib\\site-packages (from requests<3.0.0.dev0,>=2.18.0->google-api-core!=2.0.*,!=2.1.*,!=2.2.*,!=2.3.0,<3.0.0.dev0,>=1.31.5->google-api-python-client) (2.0.7)\n",
      "Requirement already satisfied: certifi>=2017.4.17 in c:\\users\\sraza\\anaconda3\\lib\\site-packages (from requests<3.0.0.dev0,>=2.18.0->google-api-core!=2.0.*,!=2.1.*,!=2.2.*,!=2.3.0,<3.0.0.dev0,>=1.31.5->google-api-python-client) (2024.2.2)\n",
      "Note: you may need to restart the kernel to use updated packages.\n"
     ]
    }
   ],
   "source": [
    "pip install google-api-python-client"
   ]
  },
  {
   "cell_type": "code",
   "execution_count": 2,
   "id": "6dbe9869-16ee-4d6b-ac29-22962d240dfa",
   "metadata": {},
   "outputs": [
    {
     "name": "stdout",
     "output_type": "stream",
     "text": [
      "Requirement already satisfied: isodate in c:\\users\\sraza\\anaconda3\\lib\\site-packages (0.6.1)\n",
      "Requirement already satisfied: six in c:\\users\\sraza\\anaconda3\\lib\\site-packages (from isodate) (1.16.0)\n",
      "Note: you may need to restart the kernel to use updated packages.\n"
     ]
    }
   ],
   "source": [
    "pip install isodate"
   ]
  },
  {
   "cell_type": "code",
   "execution_count": 3,
   "id": "be79e5a8-0980-4ce7-acbb-e47bc98dabda",
   "metadata": {},
   "outputs": [
    {
     "name": "stdout",
     "output_type": "stream",
     "text": [
      "\n",
      "Top Trending Videos in United States:\n"
     ]
    },
    {
     "ename": "KeyError",
     "evalue": "'viewCount'",
     "output_type": "error",
     "traceback": [
      "\u001b[1;31m---------------------------------------------------------------------------\u001b[0m",
      "\u001b[1;31mKeyError\u001b[0m                                  Traceback (most recent call last)",
      "Cell \u001b[1;32mIn[3], line 76\u001b[0m\n\u001b[0;32m     74\u001b[0m \u001b[38;5;28;01mfor\u001b[39;00m region_code, region_name \u001b[38;5;129;01min\u001b[39;00m regions\u001b[38;5;241m.\u001b[39mitems():\n\u001b[0;32m     75\u001b[0m     \u001b[38;5;28mprint\u001b[39m(\u001b[38;5;124mf\u001b[39m\u001b[38;5;124m\"\u001b[39m\u001b[38;5;130;01m\\n\u001b[39;00m\u001b[38;5;124mTop Trending Videos in \u001b[39m\u001b[38;5;132;01m{\u001b[39;00mregion_name\u001b[38;5;132;01m}\u001b[39;00m\u001b[38;5;124m:\u001b[39m\u001b[38;5;124m\"\u001b[39m)\n\u001b[1;32m---> 76\u001b[0m     trending_videos \u001b[38;5;241m=\u001b[39m get_trending_videos(region_code)\n\u001b[0;32m     77\u001b[0m     \u001b[38;5;28;01mfor\u001b[39;00m video \u001b[38;5;129;01min\u001b[39;00m trending_videos:\n\u001b[0;32m     78\u001b[0m         \u001b[38;5;28mprint\u001b[39m(\u001b[38;5;124mf\u001b[39m\u001b[38;5;124m\"\u001b[39m\u001b[38;5;124mTitle: \u001b[39m\u001b[38;5;132;01m{\u001b[39;00mvideo[\u001b[38;5;124m'\u001b[39m\u001b[38;5;124mtitle\u001b[39m\u001b[38;5;124m'\u001b[39m]\u001b[38;5;132;01m}\u001b[39;00m\u001b[38;5;124m\"\u001b[39m)\n",
      "Cell \u001b[1;32mIn[3], line 57\u001b[0m, in \u001b[0;36mget_trending_videos\u001b[1;34m(region_code)\u001b[0m\n\u001b[0;32m     55\u001b[0m video_category_id \u001b[38;5;241m=\u001b[39m item[\u001b[38;5;124m\"\u001b[39m\u001b[38;5;124msnippet\u001b[39m\u001b[38;5;124m\"\u001b[39m][\u001b[38;5;124m\"\u001b[39m\u001b[38;5;124mcategoryId\u001b[39m\u001b[38;5;124m\"\u001b[39m]\n\u001b[0;32m     56\u001b[0m video_category_name \u001b[38;5;241m=\u001b[39m get_video_category(video_category_id)\n\u001b[1;32m---> 57\u001b[0m video_views \u001b[38;5;241m=\u001b[39m item[\u001b[38;5;124m\"\u001b[39m\u001b[38;5;124mstatistics\u001b[39m\u001b[38;5;124m\"\u001b[39m][\u001b[38;5;124m\"\u001b[39m\u001b[38;5;124mviewCount\u001b[39m\u001b[38;5;124m\"\u001b[39m]\n\u001b[0;32m     58\u001b[0m \u001b[38;5;66;03m#video_likes = item[\"statistics\"][\"likeCount\"]\u001b[39;00m\n\u001b[0;32m     59\u001b[0m video_comments \u001b[38;5;241m=\u001b[39m item[\u001b[38;5;124m\"\u001b[39m\u001b[38;5;124mstatistics\u001b[39m\u001b[38;5;124m\"\u001b[39m][\u001b[38;5;124m\"\u001b[39m\u001b[38;5;124mcommentCount\u001b[39m\u001b[38;5;124m\"\u001b[39m]\n",
      "\u001b[1;31mKeyError\u001b[0m: 'viewCount'"
     ]
    }
   ],
   "source": [
    "# Dependencies\n",
    "import pandas as pd\n",
    "import requests\n",
    "import json\n",
    "from matplotlib import pyplot as plt\n",
    "from googleapiclient.discovery import build\n",
    "import isodate\n",
    "\n",
    "# Import the API key\n",
    "from config import api_key\n",
    "\n",
    "# Initialize YouTube Data API v3\n",
    "youtube = build('youtube', 'v3', developerKey=api_key)\n",
    "\n",
    "# Define the region codes for US(United States), GB(United Kingdom), and CA(Canada)\n",
    "regions = {\n",
    "    \"US\": \"United States\",\n",
    "    \"GB\": \"United Kingdom\",\n",
    "    \"CA\": \"Canada\"\n",
    "}\n",
    "\n",
    "def get_video_category(category_id):\n",
    "\n",
    "    request = youtube.videoCategories().list(\n",
    "        part=\"snippet\",\n",
    "        id=category_id\n",
    "    )\n",
    "    response = request.execute()\n",
    "    category_name = response[\"items\"][0][\"snippet\"][\"title\"]\n",
    "    return category_name\n",
    "\n",
    "def format_duration(duration):\n",
    "    \n",
    "    duration_obj = isodate.parse_duration(duration)\n",
    "    minutes = duration_obj.total_seconds() // 60\n",
    "    seconds = duration_obj.total_seconds() % 60\n",
    "    return f\"{int(minutes)}m {int(seconds)}s\"\n",
    "    \n",
    "def get_trending_videos(region_code):\n",
    "\n",
    "    # Call the API to get the top trending videos\n",
    "    request = youtube.videos().list(\n",
    "        part=\"snippet,statistics,contentDetails\",\n",
    "        chart=\"mostPopular\",\n",
    "        regionCode=region_code,\n",
    "        maxResults=100\n",
    "    )\n",
    "    response = request.execute()\n",
    "\n",
    "    # Extract video information\n",
    "    videos = []\n",
    "    for item in response[\"items\"]:\n",
    "        video_id = item[\"id\"]\n",
    "        video_title = item[\"snippet\"][\"title\"]\n",
    "        video_category_id = item[\"snippet\"][\"categoryId\"]\n",
    "        video_category_name = get_video_category(video_category_id)\n",
    "        video_views = item[\"statistics\"][\"viewCount\"]\n",
    "        #video_likes = item[\"statistics\"][\"likeCount\"]\n",
    "        video_comments = item[\"statistics\"][\"commentCount\"]\n",
    "        video_duration = format_duration(item[\"contentDetails\"][\"duration\"])\n",
    "        videos.append({\n",
    "            \"id\": video_id,\n",
    "            \"title\": video_title,\n",
    "            \"category\": video_category_name,\n",
    "            \"views\": video_views,\n",
    "            #\"likes\": video_likes,\n",
    "            \"comments\": video_comments,\n",
    "            \"duration\": video_duration\n",
    "        })\n",
    "\n",
    "    return videos\n",
    "\n",
    "# Get trending videos for each region\n",
    "for region_code, region_name in regions.items():\n",
    "    print(f\"\\nTop Trending Videos in {region_name}:\")\n",
    "    trending_videos = get_trending_videos(region_code)\n",
    "    for video in trending_videos:\n",
    "        print(f\"Title: {video['title']}\")\n",
    "        print(f\"Video ID: {video['id']}\")\n",
    "        print(f\"Category: {video['category']}\")\n",
    "        print(f\"Views: {video['views']}\")\n",
    "        #print(f\"Likes: {video['likes']}\")\n",
    "        print(f\"Comments: {video['comments']}\")\n",
    "        print(f\"Duration: {video['duration']}\")\n",
    "        print(\"-\" * 30)\n",
    "        \n",
    "# Initialize an empty list to store video data\n",
    "all_videos = []\n",
    "\n",
    "# Get trending videos for each region\n",
    "for region_code, region_name in regions.items():\n",
    "    trending_videos = get_trending_videos(region_code)\n",
    "    all_videos.extend(trending_videos)\n",
    "\n",
    "# Create a DataFrame from the list of video data\n",
    "videos_df = pd.DataFrame(all_videos)\n",
    "\n",
    "print(videos_df.head())\n",
    "\n",
    "videos_df.to_csv('trending_videos.csv', index=False)"
   ]
  },
  {
   "cell_type": "code",
   "execution_count": null,
   "id": "e205c5fe-9610-4e5e-ba30-0a8d6d7fe3f1",
   "metadata": {},
   "outputs": [],
   "source": []
  }
 ],
 "metadata": {
  "kernelspec": {
   "display_name": "Python 3 (ipykernel)",
   "language": "python",
   "name": "python3"
  },
  "language_info": {
   "codemirror_mode": {
    "name": "ipython",
    "version": 3
   },
   "file_extension": ".py",
   "mimetype": "text/x-python",
   "name": "python",
   "nbconvert_exporter": "python",
   "pygments_lexer": "ipython3",
   "version": "3.11.7"
  }
 },
 "nbformat": 4,
 "nbformat_minor": 5
}
