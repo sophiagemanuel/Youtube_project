{
 "cells": [
  {
   "cell_type": "code",
   "execution_count": null,
   "id": "7ac6062a-66e8-4ba9-a27b-d91982998779",
   "metadata": {},
   "outputs": [],
   "source": [
    "## Kevin"
   ]
  },
  {
   "cell_type": "code",
   "execution_count": 1,
   "id": "754a1f1e-fd04-4ce3-97d6-c448a9801138",
   "metadata": {},
   "outputs": [
    {
     "name": "stdout",
     "output_type": "stream",
     "text": [
      "Requirement already satisfied: google-api-python-client in c:\\users\\sophi\\anaconda3\\lib\\site-packages (2.125.0)\n",
      "Requirement already satisfied: httplib2<1.dev0,>=0.19.0 in c:\\users\\sophi\\anaconda3\\lib\\site-packages (from google-api-python-client) (0.22.0)\n",
      "Requirement already satisfied: google-auth!=2.24.0,!=2.25.0,<3.0.0.dev0,>=1.32.0 in c:\\users\\sophi\\anaconda3\\lib\\site-packages (from google-api-python-client) (2.29.0)\n",
      "Requirement already satisfied: google-auth-httplib2<1.0.0,>=0.2.0 in c:\\users\\sophi\\anaconda3\\lib\\site-packages (from google-api-python-client) (0.2.0)\n",
      "Requirement already satisfied: google-api-core!=2.0.*,!=2.1.*,!=2.2.*,!=2.3.0,<3.0.0.dev0,>=1.31.5 in c:\\users\\sophi\\anaconda3\\lib\\site-packages (from google-api-python-client) (2.18.0)\n",
      "Requirement already satisfied: uritemplate<5,>=3.0.1 in c:\\users\\sophi\\anaconda3\\lib\\site-packages (from google-api-python-client) (4.1.1)\n",
      "Requirement already satisfied: googleapis-common-protos<2.0.dev0,>=1.56.2 in c:\\users\\sophi\\anaconda3\\lib\\site-packages (from google-api-core!=2.0.*,!=2.1.*,!=2.2.*,!=2.3.0,<3.0.0.dev0,>=1.31.5->google-api-python-client) (1.63.0)\n",
      "Requirement already satisfied: protobuf!=3.20.0,!=3.20.1,!=4.21.0,!=4.21.1,!=4.21.2,!=4.21.3,!=4.21.4,!=4.21.5,<5.0.0.dev0,>=3.19.5 in c:\\users\\sophi\\anaconda3\\lib\\site-packages (from google-api-core!=2.0.*,!=2.1.*,!=2.2.*,!=2.3.0,<3.0.0.dev0,>=1.31.5->google-api-python-client) (3.20.3)\n",
      "Requirement already satisfied: proto-plus<2.0.0dev,>=1.22.3 in c:\\users\\sophi\\anaconda3\\lib\\site-packages (from google-api-core!=2.0.*,!=2.1.*,!=2.2.*,!=2.3.0,<3.0.0.dev0,>=1.31.5->google-api-python-client) (1.23.0)\n",
      "Requirement already satisfied: requests<3.0.0.dev0,>=2.18.0 in c:\\users\\sophi\\anaconda3\\lib\\site-packages (from google-api-core!=2.0.*,!=2.1.*,!=2.2.*,!=2.3.0,<3.0.0.dev0,>=1.31.5->google-api-python-client) (2.31.0)\n",
      "Requirement already satisfied: cachetools<6.0,>=2.0.0 in c:\\users\\sophi\\anaconda3\\lib\\site-packages (from google-auth!=2.24.0,!=2.25.0,<3.0.0.dev0,>=1.32.0->google-api-python-client) (4.2.2)\n",
      "Requirement already satisfied: pyasn1-modules>=0.2.1 in c:\\users\\sophi\\anaconda3\\lib\\site-packages (from google-auth!=2.24.0,!=2.25.0,<3.0.0.dev0,>=1.32.0->google-api-python-client) (0.2.8)\n",
      "Requirement already satisfied: rsa<5,>=3.1.4 in c:\\users\\sophi\\anaconda3\\lib\\site-packages (from google-auth!=2.24.0,!=2.25.0,<3.0.0.dev0,>=1.32.0->google-api-python-client) (4.9)\n",
      "Requirement already satisfied: pyparsing!=3.0.0,!=3.0.1,!=3.0.2,!=3.0.3,<4,>=2.4.2 in c:\\users\\sophi\\anaconda3\\lib\\site-packages (from httplib2<1.dev0,>=0.19.0->google-api-python-client) (3.0.9)\n",
      "Requirement already satisfied: pyasn1<0.5.0,>=0.4.6 in c:\\users\\sophi\\anaconda3\\lib\\site-packages (from pyasn1-modules>=0.2.1->google-auth!=2.24.0,!=2.25.0,<3.0.0.dev0,>=1.32.0->google-api-python-client) (0.4.8)\n",
      "Requirement already satisfied: charset-normalizer<4,>=2 in c:\\users\\sophi\\anaconda3\\lib\\site-packages (from requests<3.0.0.dev0,>=2.18.0->google-api-core!=2.0.*,!=2.1.*,!=2.2.*,!=2.3.0,<3.0.0.dev0,>=1.31.5->google-api-python-client) (2.0.4)\n",
      "Requirement already satisfied: idna<4,>=2.5 in c:\\users\\sophi\\anaconda3\\lib\\site-packages (from requests<3.0.0.dev0,>=2.18.0->google-api-core!=2.0.*,!=2.1.*,!=2.2.*,!=2.3.0,<3.0.0.dev0,>=1.31.5->google-api-python-client) (3.4)\n",
      "Requirement already satisfied: urllib3<3,>=1.21.1 in c:\\users\\sophi\\anaconda3\\lib\\site-packages (from requests<3.0.0.dev0,>=2.18.0->google-api-core!=2.0.*,!=2.1.*,!=2.2.*,!=2.3.0,<3.0.0.dev0,>=1.31.5->google-api-python-client) (2.0.7)\n",
      "Requirement already satisfied: certifi>=2017.4.17 in c:\\users\\sophi\\anaconda3\\lib\\site-packages (from requests<3.0.0.dev0,>=2.18.0->google-api-core!=2.0.*,!=2.1.*,!=2.2.*,!=2.3.0,<3.0.0.dev0,>=1.31.5->google-api-python-client) (2024.2.2)\n",
      "Note: you may need to restart the kernel to use updated packages.\n"
     ]
    }
   ],
   "source": [
    "pip install google-api-python-client"
   ]
  },
  {
   "cell_type": "code",
   "execution_count": 2,
   "id": "6dbe9869-16ee-4d6b-ac29-22962d240dfa",
   "metadata": {},
   "outputs": [
    {
     "name": "stdout",
     "output_type": "stream",
     "text": [
      "Requirement already satisfied: isodate in c:\\users\\sophi\\anaconda3\\lib\\site-packages (0.6.1)\n",
      "Requirement already satisfied: six in c:\\users\\sophi\\anaconda3\\lib\\site-packages (from isodate) (1.16.0)\n",
      "Note: you may need to restart the kernel to use updated packages.\n"
     ]
    }
   ],
   "source": [
    "pip install isodate"
   ]
  },
  {
   "cell_type": "code",
<<<<<<< HEAD
   "execution_count": 3,
=======
   "execution_count": 2,
>>>>>>> 93fcbab9c1f61c260f46a4169105d2039af3a09c
   "id": "be79e5a8-0980-4ce7-acbb-e47bc98dabda",
   "metadata": {},
   "outputs": [
    {
     "name": "stdout",
     "output_type": "stream",
     "text": [
      "\n",
      "Top Trending Videos in United States:\n",
      "Error processing video: 'viewCount' for US\n",
      "Error processing video: 'viewCount' for US\n",
      "Error processing video: 'commentCount' for US\n",
      "Error processing video: 'likeCount' for US\n",
      "Title: Max Holloway KOs Justin Gaethje to Win the BMF Belt at UFC 300!\n",
      "Video ID: h9KBcib8pHc\n",
      "Category: Sports\n",
<<<<<<< HEAD
      "Views: 3609652\n",
      "Likes: 96845\n",
      "Comments: 10245\n",
=======
      "Views: 3663303\n",
      "Likes: 97587\n",
      "Comments: 10324\n",
>>>>>>> 93fcbab9c1f61c260f46a4169105d2039af3a09c
      "Duration: 4m 18s\n",
      "------------------------------\n",
      "Title: Rick Ross - Champagne Moments (Drake Diss) (AUDIO)\n",
      "Video ID: Z-zLBDmB6Fc\n",
      "Category: Music\n",
<<<<<<< HEAD
      "Views: 1193015\n",
      "Likes: 37160\n",
      "Comments: 8515\n",
=======
      "Views: 1215805\n",
      "Likes: 37583\n",
      "Comments: 8609\n",
>>>>>>> 93fcbab9c1f61c260f46a4169105d2039af3a09c
      "Duration: 3m 10s\n",
      "------------------------------\n",
      "Title: Alex Pereira knocks out Jamahal Hill and delivers the COLDEST celebration of all time 🥶 #UFC300\n",
      "Video ID: NVDPGPwcFPs\n",
      "Category: Sports\n",
<<<<<<< HEAD
      "Views: 1676231\n",
      "Likes: 11682\n",
      "Comments: 1345\n",
=======
      "Views: 1698068\n",
      "Likes: 11779\n",
      "Comments: 1355\n",
>>>>>>> 93fcbab9c1f61c260f46a4169105d2039af3a09c
      "Duration: 1m 19s\n",
      "------------------------------\n",
      "Title: UFC 300: Post-Fight Press Conference\n",
      "Video ID: TG9dx1NrL3Y\n",
      "Category: Sports\n",
<<<<<<< HEAD
      "Views: 1296176\n",
      "Likes: 26254\n",
      "Comments: 2835\n",
=======
      "Views: 1305206\n",
      "Likes: 26338\n",
      "Comments: 2850\n",
>>>>>>> 93fcbab9c1f61c260f46a4169105d2039af3a09c
      "Duration: 86m 55s\n",
      "------------------------------\n",
      "Title: I Tested 1-Star Hotels (again)\n",
      "Video ID: 8Tt5hh7gVVw\n",
      "Category: Entertainment\n",
<<<<<<< HEAD
      "Views: 4128867\n",
      "Likes: 164229\n",
      "Comments: 11021\n",
=======
      "Views: 4151354\n",
      "Likes: 164798\n",
      "Comments: 11049\n",
>>>>>>> 93fcbab9c1f61c260f46a4169105d2039af3a09c
      "Duration: 29m 49s\n",
      "------------------------------\n",
      "Title: Beavis and Butt-Head - SNL\n",
      "Video ID: 86qKgK0asGo\n",
      "Category: Comedy\n",
<<<<<<< HEAD
      "Views: 1962509\n",
      "Likes: 45491\n",
      "Comments: 3084\n",
=======
      "Views: 2025610\n",
      "Likes: 46530\n",
      "Comments: 3130\n",
>>>>>>> 93fcbab9c1f61c260f46a4169105d2039af3a09c
      "Duration: 6m 11s\n",
      "------------------------------\n",
      "Title: We Powered A Mountain\n",
      "Video ID: 3cAfa7vtnHU\n",
      "Category: People & Blogs\n",
<<<<<<< HEAD
      "Views: 2249343\n",
      "Likes: 209229\n",
      "Comments: 9733\n",
=======
      "Views: 2289866\n",
      "Likes: 211257\n",
      "Comments: 9803\n",
>>>>>>> 93fcbab9c1f61c260f46a4169105d2039af3a09c
      "Duration: 10m 8s\n",
      "------------------------------\n",
      "Title: Sporting Kansas City vs. Inter Miami CF | Historic crowd! 72k+ In Attendance | Full Match Highlights\n",
      "Video ID: 9B-8Zz7tcrY\n",
      "Category: Sports\n",
<<<<<<< HEAD
      "Views: 1196304\n",
      "Likes: 32221\n",
      "Comments: 1517\n",
=======
      "Views: 1205939\n",
      "Likes: 32334\n",
      "Comments: 1521\n",
>>>>>>> 93fcbab9c1f61c260f46a4169105d2039af3a09c
      "Duration: 7m 16s\n",
      "------------------------------\n",
      "Title: How will Israel and the US respond to Iran's attack on Israel? | DW News\n",
      "Video ID: gZnUEta1jgU\n",
      "Category: News & Politics\n",
<<<<<<< HEAD
      "Views: 754563\n",
      "Likes: 7913\n",
      "Comments: 3501\n",
=======
      "Views: 756131\n",
      "Likes: 7918\n",
      "Comments: 3507\n",
>>>>>>> 93fcbab9c1f61c260f46a4169105d2039af3a09c
      "Duration: 26m 31s\n",
      "------------------------------\n",
      "Title: I Tried Every Airline In America\n",
      "Video ID: 8p9NPLvlrv0\n",
      "Category: Entertainment\n",
<<<<<<< HEAD
      "Views: 672302\n",
      "Likes: 36278\n",
      "Comments: 2668\n",
=======
      "Views: 676388\n",
      "Likes: 36429\n",
      "Comments: 2670\n",
>>>>>>> 93fcbab9c1f61c260f46a4169105d2039af3a09c
      "Duration: 25m 17s\n",
      "------------------------------\n",
      "Title: Weekend Update: Caitlin Clark on the WNBA Draft - SNL\n",
      "Video ID: Cuf29fvlfb0\n",
      "Category: Comedy\n",
<<<<<<< HEAD
      "Views: 1548951\n",
      "Likes: 25368\n",
      "Comments: 1836\n",
=======
      "Views: 1589551\n",
      "Likes: 25854\n",
      "Comments: 1866\n",
>>>>>>> 93fcbab9c1f61c260f46a4169105d2039af3a09c
      "Duration: 4m 33s\n",
      "------------------------------\n",
      "Title: every apartment is 2 RANDOM aesthetics in the sims 4\n",
      "Video ID: keMOaF1Su9I\n",
      "Category: Gaming\n",
<<<<<<< HEAD
      "Views: 312299\n",
      "Likes: 38033\n",
      "Comments: 1790\n",
=======
      "Views: 314795\n",
      "Likes: 38204\n",
      "Comments: 1799\n",
>>>>>>> 93fcbab9c1f61c260f46a4169105d2039af3a09c
      "Duration: 33m 12s\n",
      "------------------------------\n",
      "Title: Max Holloway just put Justin Gaethje OUT COLD in the very last second of the final round 🤯 #UFC300\n",
      "Video ID: KjIATmgpWTI\n",
      "Category: Sports\n",
<<<<<<< HEAD
      "Views: 412685\n",
      "Likes: 2748\n",
      "Comments: 596\n",
=======
      "Views: 417221\n",
      "Likes: 2760\n",
      "Comments: 598\n",
>>>>>>> 93fcbab9c1f61c260f46a4169105d2039af3a09c
      "Duration: 0m 55s\n",
      "------------------------------\n",
      "Title: Ohio State Football spring game highlights | CFB on FOX\n",
      "Video ID: mLw3gINzgh4\n",
      "Category: Sports\n",
<<<<<<< HEAD
      "Views: 78206\n",
      "Likes: 1102\n",
      "Comments: 301\n",
=======
      "Views: 78929\n",
      "Likes: 1109\n",
      "Comments: 304\n",
>>>>>>> 93fcbab9c1f61c260f46a4169105d2039af3a09c
      "Duration: 9m 55s\n",
      "------------------------------\n",
      "Title: Best Face Painting Wins $5,000!\n",
      "Video ID: bao348EFUuU\n",
      "Category: Howto & Style\n",
<<<<<<< HEAD
      "Views: 427407\n",
      "Likes: 16480\n",
=======
      "Views: 428753\n",
      "Likes: 16511\n",
>>>>>>> 93fcbab9c1f61c260f46a4169105d2039af3a09c
      "Comments: 1608\n",
      "Duration: 37m 42s\n",
      "------------------------------\n",
      "Title: Papyrus 2\n",
      "Video ID: Q8PdffUfoF0\n",
      "Category: Comedy\n",
<<<<<<< HEAD
      "Views: 1058783\n",
      "Likes: 41042\n",
      "Comments: 2278\n",
=======
      "Views: 1089530\n",
      "Likes: 41769\n",
      "Comments: 2312\n",
>>>>>>> 93fcbab9c1f61c260f46a4169105d2039af3a09c
      "Duration: 6m 55s\n",
      "------------------------------\n",
      "Title: Sabrina Carpenter - Espresso (Official Video)\n",
      "Video ID: eVli-tstM5E\n",
      "Category: Music\n",
<<<<<<< HEAD
      "Views: 3048899\n",
      "Likes: 241436\n",
      "Comments: 8197\n",
=======
      "Views: 3067840\n",
      "Likes: 242240\n",
      "Comments: 8217\n",
>>>>>>> 93fcbab9c1f61c260f46a4169105d2039af3a09c
      "Duration: 3m 21s\n",
      "------------------------------\n",
      "Title: Tom MacDonald - \"God Mode\"\n",
      "Video ID: YyAumYg5Hxc\n",
      "Category: People & Blogs\n",
<<<<<<< HEAD
      "Views: 1440715\n",
      "Likes: 168045\n",
      "Comments: 34220\n",
=======
      "Views: 1448420\n",
      "Likes: 169017\n",
      "Comments: 34358\n",
>>>>>>> 93fcbab9c1f61c260f46a4169105d2039af3a09c
      "Duration: 8m 25s\n",
      "------------------------------\n",
      "Title: I Ran A Custom Croissant Shop For A Day\n",
      "Video ID: TYX3wGsKpwI\n",
      "Category: People & Blogs\n",
<<<<<<< HEAD
      "Views: 941160\n",
      "Likes: 56921\n",
      "Comments: 1873\n",
=======
      "Views: 947956\n",
      "Likes: 57195\n",
      "Comments: 1877\n",
>>>>>>> 93fcbab9c1f61c260f46a4169105d2039af3a09c
      "Duration: 36m 17s\n",
      "------------------------------\n",
      "Title: Garten of Banban 7 - Official Trailer\n",
      "Video ID: 1fMteAkVAEc\n",
      "Category: Gaming\n",
<<<<<<< HEAD
      "Views: 1149887\n",
      "Likes: 53898\n",
      "Comments: 8984\n",
=======
      "Views: 1153274\n",
      "Likes: 53969\n",
      "Comments: 9002\n",
>>>>>>> 93fcbab9c1f61c260f46a4169105d2039af3a09c
      "Duration: 1m 33s\n",
      "------------------------------\n",
      "Title: I Broke My Neck.. (End Of My Football Career)\n",
      "Video ID: krXRznlZIRM\n",
      "Category: Entertainment\n",
<<<<<<< HEAD
      "Views: 1575119\n",
      "Likes: 55943\n",
      "Comments: 4641\n",
=======
      "Views: 1586770\n",
      "Likes: 56264\n",
      "Comments: 4667\n",
>>>>>>> 93fcbab9c1f61c260f46a4169105d2039af3a09c
      "Duration: 19m 36s\n",
      "------------------------------\n",
      "Title: Conan O'Brien Needs a Doctor While Eating Spicy Wings | Hot Ones\n",
      "Video ID: FALlhXl6CmA\n",
      "Category: Entertainment\n",
<<<<<<< HEAD
      "Views: 5326416\n",
      "Likes: 342933\n",
      "Comments: 34884\n",
=======
      "Views: 5348291\n",
      "Likes: 343912\n",
      "Comments: 34962\n",
>>>>>>> 93fcbab9c1f61c260f46a4169105d2039af3a09c
      "Duration: 27m 21s\n",
      "------------------------------\n",
      "Title: Fuerza Regida - CRAZYZ (Official Video)\n",
      "Video ID: EX5WEmTCcgA\n",
      "Category: Music\n",
<<<<<<< HEAD
      "Views: 822459\n",
      "Likes: 37776\n",
      "Comments: 1388\n",
=======
      "Views: 831094\n",
      "Likes: 37998\n",
      "Comments: 1397\n",
>>>>>>> 93fcbab9c1f61c260f46a4169105d2039af3a09c
      "Duration: 3m 50s\n",
      "------------------------------\n",
      "Title: Sabrina Carpenter - Espresso - Live at Coachella 2024\n",
      "Video ID: 3n-SDAxb_tQ\n",
      "Category: Music\n",
<<<<<<< HEAD
      "Views: 491527\n",
      "Likes: 26563\n",
      "Comments: 430\n",
      "Duration: 3m 15s\n",
      "------------------------------\n",
      "Title: MAX HOLLOWAY REACTS TO INSANE KO OF JUSTIN GAETHJE AT UFC 300 FOR THE BMF TITLE\n",
      "Video ID: ymOPw7cN3Ac\n",
      "Category: Sports\n",
      "Views: 92296\n",
      "Likes: 2557\n",
      "Comments: 335\n",
      "Duration: 4m 20s\n",
      "------------------------------\n",
      "Title: I Built a LEGO WATER PARK\n",
      "Video ID: AYDICzSsjmY\n",
      "Category: Entertainment\n",
      "Views: 281269\n",
      "Likes: 7623\n",
      "Comments: 567\n",
      "Duration: 12m 34s\n",
      "------------------------------\n",
      "Title: Spawning 15 BILLION Maxwells in My Summer Car\n",
      "Video ID: tlj7Rj237a4\n",
      "Category: Gaming\n",
      "Views: 692884\n",
      "Likes: 42993\n",
      "Comments: 1202\n",
=======
      "Views: 495514\n",
      "Likes: 26666\n",
      "Comments: 432\n",
      "Duration: 3m 15s\n",
      "------------------------------\n",
      "Title: I Built a LEGO WATER PARK\n",
      "Video ID: AYDICzSsjmY\n",
      "Category: Entertainment\n",
      "Views: 282178\n",
      "Likes: 7650\n",
      "Comments: 568\n",
      "Duration: 12m 34s\n",
      "------------------------------\n",
      "Title: MAX HOLLOWAY REACTS TO INSANE KO OF JUSTIN GAETHJE AT UFC 300 FOR THE BMF TITLE\n",
      "Video ID: ymOPw7cN3Ac\n",
      "Category: Sports\n",
      "Views: 92618\n",
      "Likes: 2562\n",
      "Comments: 335\n",
      "Duration: 4m 20s\n",
      "------------------------------\n",
      "Title: Spawning 15 BILLION Maxwells in My Summer Car\n",
      "Video ID: tlj7Rj237a4\n",
      "Category: Gaming\n",
      "Views: 696122\n",
      "Likes: 43111\n",
      "Comments: 1204\n",
>>>>>>> 93fcbab9c1f61c260f46a4169105d2039af3a09c
      "Duration: 30m 14s\n",
      "------------------------------\n",
      "Title: Meek Mill - Big Boy (Official Music Video)\n",
      "Video ID: ZxA3bN6SSxY\n",
      "Category: Music\n",
<<<<<<< HEAD
      "Views: 374177\n",
      "Likes: 21553\n",
      "Comments: 1836\n",
=======
      "Views: 376260\n",
      "Likes: 21609\n",
      "Comments: 1842\n",
>>>>>>> 93fcbab9c1f61c260f46a4169105d2039af3a09c
      "Duration: 2m 40s\n",
      "------------------------------\n",
      "Title: PESO COMPLETO (Video Oficial) - Peso Pluma, Arcángel\n",
      "Video ID: bUS-Dddefvs\n",
      "Category: Music\n",
<<<<<<< HEAD
      "Views: 896950\n",
      "Likes: 61768\n",
      "Comments: 3390\n",
=======
      "Views: 904962\n",
      "Likes: 62063\n",
      "Comments: 3404\n",
>>>>>>> 93fcbab9c1f61c260f46a4169105d2039af3a09c
      "Duration: 3m 14s\n",
      "------------------------------\n",
      "Title: BREAKING: Iran launches “mass drone and missile attack” on Israel | BBC News\n",
      "Video ID: CPyk69APB28\n",
      "Category: News & Politics\n",
<<<<<<< HEAD
      "Views: 2040662\n",
      "Likes: 19816\n",
      "Comments: 10002\n",
      "Duration: 4m 38s\n",
      "------------------------------\n",
      "Title: Bridgerton Season 3 | Official Trailer | Netflix\n",
      "Video ID: U4JYAx5rNRA\n",
      "Category: Entertainment\n",
      "Views: 4387749\n",
      "Likes: 160304\n",
      "Comments: 6576\n",
      "Duration: 2m 48s\n",
      "------------------------------\n",
      "Title: What Happened To The Nautilus?\n",
      "Video ID: 8AbtCE-sePc\n",
      "Category: Education\n",
      "Views: 1944443\n",
      "Likes: 61999\n",
      "Comments: 1520\n",
      "Duration: 16m 57s\n",
      "------------------------------\n",
      "Title: Liverpool vs. Atalanta: Extended Highlights | UEL Quarter-Finals 1st Leg | CBS Sports Golazo\n",
      "Video ID: zTBflv2qBKY\n",
      "Category: Sports\n",
      "Views: 910134\n",
      "Likes: 8807\n",
=======
      "Views: 2042280\n",
      "Likes: 19821\n",
      "Comments: 10003\n",
      "Duration: 4m 38s\n",
      "------------------------------\n",
      "Title: What Happened To The Nautilus?\n",
      "Video ID: 8AbtCE-sePc\n",
      "Category: Education\n",
      "Views: 1971786\n",
      "Likes: 62479\n",
      "Comments: 1527\n",
      "Duration: 16m 57s\n",
      "------------------------------\n",
      "Title: Bridgerton Season 3 | Official Trailer | Netflix\n",
      "Video ID: U4JYAx5rNRA\n",
      "Category: Entertainment\n",
      "Views: 4397299\n",
      "Likes: 160459\n",
      "Comments: 6578\n",
      "Duration: 2m 48s\n",
      "------------------------------\n",
      "Title: Liverpool vs. Atalanta: Extended Highlights | UEL Quarter-Finals 1st Leg | CBS Sports Golazo\n",
      "Video ID: zTBflv2qBKY\n",
      "Category: Sports\n",
      "Views: 910561\n",
      "Likes: 8810\n",
>>>>>>> 93fcbab9c1f61c260f46a4169105d2039af3a09c
      "Comments: 1483\n",
      "Duration: 14m 46s\n",
      "------------------------------\n",
      "Title: Shaboozey - A Bar Song (Tipsy) [Official Visualizer]\n",
      "Video ID: t7bQwwqW-Hc\n",
      "Category: Music\n",
<<<<<<< HEAD
      "Views: 1380388\n",
      "Likes: 44501\n",
      "Comments: 1353\n",
=======
      "Views: 1384729\n",
      "Likes: 44616\n",
      "Comments: 1358\n",
>>>>>>> 93fcbab9c1f61c260f46a4169105d2039af3a09c
      "Duration: 2m 54s\n",
      "------------------------------\n",
      "Title: Prop Hunt in Pokemon but Surprise Trade Decides\n",
      "Video ID: YRQ1PR082to\n",
      "Category: Gaming\n",
<<<<<<< HEAD
      "Views: 253813\n",
      "Likes: 12404\n",
      "Comments: 911\n",
=======
      "Views: 254603\n",
      "Likes: 12435\n",
      "Comments: 912\n",
>>>>>>> 93fcbab9c1f61c260f46a4169105d2039af3a09c
      "Duration: 33m 15s\n",
      "------------------------------\n",
      "Title: Family Photo Booth & Shopping In Town\n",
      "Video ID: 4MxNTXCRDOs\n",
      "Category: People & Blogs\n",
<<<<<<< HEAD
      "Views: 132283\n",
      "Likes: 9471\n",
=======
      "Views: 134782\n",
      "Likes: 9564\n",
>>>>>>> 93fcbab9c1f61c260f46a4169105d2039af3a09c
      "Comments: 371\n",
      "Duration: 31m 35s\n",
      "------------------------------\n",
      "Title: 1 Goalie Vs. 100 Free Kicks ALL AT ONCE!\n",
      "Video ID: 6ndyCYpA49A\n",
      "Category: Sports\n",
<<<<<<< HEAD
      "Views: 503853\n",
      "Likes: 18866\n",
      "Comments: 635\n",
=======
      "Views: 506196\n",
      "Likes: 18936\n",
      "Comments: 640\n",
>>>>>>> 93fcbab9c1f61c260f46a4169105d2039af3a09c
      "Duration: 19m 15s\n",
      "------------------------------\n",
      "Title: I Survived 100 Days as the LAST TITAN in Minecraft!\n",
      "Video ID: 7pKJCrULX1c\n",
      "Category: Gaming\n",
<<<<<<< HEAD
      "Views: 750166\n",
      "Likes: 10005\n",
      "Comments: 551\n",
=======
      "Views: 751947\n",
      "Likes: 10027\n",
      "Comments: 552\n",
>>>>>>> 93fcbab9c1f61c260f46a4169105d2039af3a09c
      "Duration: 42m 44s\n",
      "------------------------------\n",
      "Title: Is Solo Sikoa The New Tribal Chief?! | WWE SmackDown Highlights 4/12/24 | WWE on USA\n",
      "Video ID: BFNYALOBy94\n",
      "Category: Sports\n",
<<<<<<< HEAD
      "Views: 697682\n",
      "Likes: 15544\n",
      "Comments: 2886\n",
=======
      "Views: 699320\n",
      "Likes: 15563\n",
      "Comments: 2893\n",
>>>>>>> 93fcbab9c1f61c260f46a4169105d2039af3a09c
      "Duration: 8m 0s\n",
      "------------------------------\n",
      "Title: CG5 - Sleep Well (Official Live Performance)\n",
      "Video ID: lsZkA0SZHN8\n",
      "Category: Music\n",
<<<<<<< HEAD
      "Views: 1341187\n",
      "Likes: 69214\n",
      "Comments: 6153\n",
=======
      "Views: 1351611\n",
      "Likes: 69554\n",
      "Comments: 6169\n",
>>>>>>> 93fcbab9c1f61c260f46a4169105d2039af3a09c
      "Duration: 3m 39s\n",
      "------------------------------\n",
      "Title: Can You Beat Minecraft in a Potato ONLY World?\n",
      "Video ID: P53UY4uIlYY\n",
      "Category: Gaming\n",
<<<<<<< HEAD
      "Views: 801036\n",
      "Likes: 27009\n",
      "Comments: 2485\n",
=======
      "Views: 803457\n",
      "Likes: 27058\n",
      "Comments: 2486\n",
>>>>>>> 93fcbab9c1f61c260f46a4169105d2039af3a09c
      "Duration: 51m 43s\n",
      "------------------------------\n",
      "Title: I made FLAPPY BIRD in DUMB programs\n",
      "Video ID: djIufZ7Fyms\n",
      "Category: Education\n",
<<<<<<< HEAD
      "Views: 908961\n",
      "Likes: 80270\n",
      "Comments: 3327\n",
=======
      "Views: 912030\n",
      "Likes: 80423\n",
      "Comments: 3328\n",
>>>>>>> 93fcbab9c1f61c260f46a4169105d2039af3a09c
      "Duration: 19m 35s\n",
      "------------------------------\n",
      "Title: I Built The Most Ridiculous End Portal In Minecraft Hardcore\n",
      "Video ID: TjVXrw80MfU\n",
      "Category: Gaming\n",
<<<<<<< HEAD
      "Views: 669722\n",
      "Likes: 52357\n",
=======
      "Views: 671721\n",
      "Likes: 52437\n",
>>>>>>> 93fcbab9c1f61c260f46a4169105d2039af3a09c
      "Comments: 2848\n",
      "Duration: 19m 24s\n",
      "------------------------------\n",
      "Title: Hermitcraft 10 - Ep 11:  This Episode Changes Everything!\n",
      "Video ID: 3BMJT3j2mkU\n",
      "Category: Gaming\n",
<<<<<<< HEAD
      "Views: 520876\n",
      "Likes: 40266\n",
      "Comments: 2665\n",
=======
      "Views: 521968\n",
      "Likes: 40319\n",
      "Comments: 2671\n",
>>>>>>> 93fcbab9c1f61c260f46a4169105d2039af3a09c
      "Duration: 25m 5s\n",
      "------------------------------\n",
      "Title: I Built an Invisible Katana (it's indestructible)\n",
      "Video ID: YQfC90O9HlI\n",
      "Category: Entertainment\n",
<<<<<<< HEAD
      "Views: 3428102\n",
      "Likes: 92975\n",
      "Comments: 4684\n",
=======
      "Views: 3447871\n",
      "Likes: 93400\n",
      "Comments: 4718\n",
>>>>>>> 93fcbab9c1f61c260f46a4169105d2039af3a09c
      "Duration: 22m 2s\n",
      "------------------------------\n",
      "Title: We made a real DOGDAY Animatronic!\n",
      "Video ID: JyYQmekPqqI\n",
      "Category: Howto & Style\n",
<<<<<<< HEAD
      "Views: 1744469\n",
      "Likes: 51192\n",
      "Comments: 6835\n",
=======
      "Views: 1750921\n",
      "Likes: 51339\n",
      "Comments: 6844\n",
>>>>>>> 93fcbab9c1f61c260f46a4169105d2039af3a09c
      "Duration: 27m 55s\n",
      "------------------------------\n",
      "\n",
      "Top Trending Videos in United Kingdom:\n",
      "Title: Sabrina Carpenter - Espresso (Official Video)\n",
      "Video ID: eVli-tstM5E\n",
      "Category: Music\n",
<<<<<<< HEAD
      "Views: 3048899\n",
      "Likes: 241436\n",
      "Comments: 8197\n",
=======
      "Views: 3067840\n",
      "Likes: 242240\n",
      "Comments: 8217\n",
>>>>>>> 93fcbab9c1f61c260f46a4169105d2039af3a09c
      "Duration: 3m 21s\n",
      "------------------------------\n",
      "Title: Dua Lipa - Illusion (Official Music Video)\n",
      "Video ID: a9cyG_yfh1k\n",
      "Category: Music\n",
<<<<<<< HEAD
      "Views: 5700590\n",
      "Likes: 279930\n",
      "Comments: 14376\n",
=======
      "Views: 5721824\n",
      "Likes: 280350\n",
      "Comments: 14388\n",
>>>>>>> 93fcbab9c1f61c260f46a4169105d2039af3a09c
      "Duration: 3m 7s\n",
      "------------------------------\n",
      "Title: Bridgerton Season 3 | Official Trailer | Netflix\n",
      "Video ID: U4JYAx5rNRA\n",
      "Category: Entertainment\n",
<<<<<<< HEAD
      "Views: 4387749\n",
      "Likes: 160304\n",
      "Comments: 6576\n",
=======
      "Views: 4397299\n",
      "Likes: 160459\n",
      "Comments: 6578\n",
>>>>>>> 93fcbab9c1f61c260f46a4169105d2039af3a09c
      "Duration: 2m 48s\n",
      "------------------------------\n",
      "Title: I DESTROYED A ROLLS ROYCE TO REBUILD MARCUS RASHFORDS WRAITH\n",
      "Video ID: 5VFLKunsQqo\n",
      "Category: Autos & Vehicles\n",
<<<<<<< HEAD
      "Views: 1912825\n",
      "Likes: 68254\n",
=======
      "Views: 1914756\n",
      "Likes: 68267\n",
>>>>>>> 93fcbab9c1f61c260f46a4169105d2039af3a09c
      "Comments: 3863\n",
      "Duration: 23m 0s\n",
      "------------------------------\n",
      "Title: Why We Left Car Throttle\n",
      "Video ID: lbPJXWDa6oM\n",
      "Category: People & Blogs\n",
<<<<<<< HEAD
      "Views: 224929\n",
      "Likes: 25255\n",
=======
      "Views: 225498\n",
      "Likes: 25281\n",
>>>>>>> 93fcbab9c1f61c260f46a4169105d2039af3a09c
      "Comments: 1918\n",
      "Duration: 4m 3s\n",
      "------------------------------\n",
      "Title: Conan O'Brien Needs a Doctor While Eating Spicy Wings | Hot Ones\n",
      "Video ID: FALlhXl6CmA\n",
      "Category: Entertainment\n",
<<<<<<< HEAD
      "Views: 5326416\n",
      "Likes: 342933\n",
      "Comments: 34884\n",
=======
      "Views: 5348291\n",
      "Likes: 343916\n",
      "Comments: 34962\n",
>>>>>>> 93fcbab9c1f61c260f46a4169105d2039af3a09c
      "Duration: 27m 21s\n",
      "------------------------------\n",
      "Title: I Ran the Entire Length of Africa\n",
      "Video ID: nsdo_tcw4VY\n",
      "Category: Sports\n",
<<<<<<< HEAD
      "Views: 431261\n",
      "Likes: 35517\n",
      "Comments: 2650\n",
=======
      "Views: 433971\n",
      "Likes: 35584\n",
      "Comments: 2651\n",
>>>>>>> 93fcbab9c1f61c260f46a4169105d2039af3a09c
      "Duration: 27m 19s\n",
      "------------------------------\n",
      "Title: Bugzy Malone - Old Friends\n",
      "Video ID: NLuG-_Qjt98\n",
      "Category: Music\n",
<<<<<<< HEAD
      "Views: 789666\n",
      "Likes: 12204\n",
      "Comments: 774\n",
=======
      "Views: 795602\n",
      "Likes: 12215\n",
      "Comments: 775\n",
>>>>>>> 93fcbab9c1f61c260f46a4169105d2039af3a09c
      "Duration: 4m 45s\n",
      "------------------------------\n",
      "Title: Coming Soon: New Pokémon GO Updates\n",
      "Video ID: 7D0wFf4GqLI\n",
      "Category: Gaming\n",
<<<<<<< HEAD
      "Views: 549263\n",
      "Likes: 4935\n",
      "Comments: 1725\n",
=======
      "Views: 549860\n",
      "Likes: 4939\n",
      "Comments: 1727\n",
>>>>>>> 93fcbab9c1f61c260f46a4169105d2039af3a09c
      "Duration: 0m 15s\n",
      "------------------------------\n",
      "Title: I made FLAPPY BIRD in DUMB programs\n",
      "Video ID: djIufZ7Fyms\n",
      "Category: Education\n",
<<<<<<< HEAD
      "Views: 908961\n",
      "Likes: 80271\n",
      "Comments: 3327\n",
=======
      "Views: 912030\n",
      "Likes: 80424\n",
      "Comments: 3328\n",
>>>>>>> 93fcbab9c1f61c260f46a4169105d2039af3a09c
      "Duration: 19m 35s\n",
      "------------------------------\n",
      "Title: NLE Choppa - SLUT ME OUT 2 (Official Music Video)\n",
      "Video ID: oSca__bu0is\n",
      "Category: Music\n",
<<<<<<< HEAD
      "Views: 513496\n",
      "Likes: 33792\n",
      "Comments: 2704\n",
=======
      "Views: 516234\n",
      "Likes: 33923\n",
      "Comments: 2716\n",
>>>>>>> 93fcbab9c1f61c260f46a4169105d2039af3a09c
      "Duration: 2m 26s\n",
      "------------------------------\n",
      "Title: Sabrina Carpenter - Espresso (Official Audio)\n",
      "Video ID: 51zjlMhdSTE\n",
      "Category: Music\n",
<<<<<<< HEAD
      "Views: 552536\n",
      "Likes: 53263\n",
      "Comments: 2771\n",
=======
      "Views: 554431\n",
      "Likes: 53307\n",
      "Comments: 2773\n",
>>>>>>> 93fcbab9c1f61c260f46a4169105d2039af3a09c
      "Duration: 2m 56s\n",
      "------------------------------\n",
      "Title: Joker: Folie à Deux | Official Teaser Trailer\n",
      "Video ID: xy8aJw1vYHo\n",
      "Category: Film & Animation\n",
<<<<<<< HEAD
      "Views: 28854524\n",
      "Likes: 845834\n",
      "Comments: 39798\n",
=======
      "Views: 28883267\n",
      "Likes: 846437\n",
      "Comments: 39829\n",
>>>>>>> 93fcbab9c1f61c260f46a4169105d2039af3a09c
      "Duration: 2m 25s\n",
      "------------------------------\n",
      "Title: I Built The Most Ridiculous End Portal In Minecraft Hardcore\n",
      "Video ID: TjVXrw80MfU\n",
      "Category: Gaming\n",
<<<<<<< HEAD
      "Views: 669722\n",
      "Likes: 52358\n",
=======
      "Views: 671721\n",
      "Likes: 52437\n",
>>>>>>> 93fcbab9c1f61c260f46a4169105d2039af3a09c
      "Comments: 2848\n",
      "Duration: 19m 24s\n",
      "------------------------------\n",
      "Title: Bryson DeChambeau's First Round | Every Single Shot | The Masters\n",
      "Video ID: OU__5jImEm0\n",
      "Category: Sports\n",
<<<<<<< HEAD
      "Views: 582321\n",
=======
      "Views: 582607\n",
>>>>>>> 93fcbab9c1f61c260f46a4169105d2039af3a09c
      "Likes: 5861\n",
      "Comments: 560\n",
      "Duration: 10m 50s\n",
      "------------------------------\n",
      "Title: Season 10: Venture Forth | Overwatch 2 Official Trailer\n",
      "Video ID: BlUxw-0lS94\n",
      "Category: Gaming\n",
<<<<<<< HEAD
      "Views: 596196\n",
      "Likes: 32060\n",
      "Comments: 3487\n",
=======
      "Views: 596840\n",
      "Likes: 32071\n",
      "Comments: 3488\n",
>>>>>>> 93fcbab9c1f61c260f46a4169105d2039af3a09c
      "Duration: 2m 25s\n",
      "------------------------------\n",
      "Title: Fortnite x Avatar: Elements - Gameplay Trailer\n",
      "Video ID: S8aKWCxiLps\n",
      "Category: Gaming\n",
<<<<<<< HEAD
      "Views: 2067001\n",
      "Likes: 32352\n",
      "Comments: 2337\n",
=======
      "Views: 2087912\n",
      "Likes: 32363\n",
      "Comments: 2340\n",
>>>>>>> 93fcbab9c1f61c260f46a4169105d2039af3a09c
      "Duration: 0m 51s\n",
      "------------------------------\n",
      "Title: Kendall Jenner’s Guide to “Spring French Girl\" Makeup | Beauty Secrets | Vogue\n",
      "Video ID: oQkQv1ULyzs\n",
      "Category: Entertainment\n",
<<<<<<< HEAD
      "Views: 1380811\n",
      "Likes: 53339\n",
      "Comments: 1412\n",
=======
      "Views: 1384941\n",
      "Likes: 53426\n",
      "Comments: 1413\n",
>>>>>>> 93fcbab9c1f61c260f46a4169105d2039af3a09c
      "Duration: 11m 27s\n",
      "------------------------------\n",
      "Title: Trossard Rescues Gunners 🔴 | Arsenal 2-2 Bayern Munich | Champions League Quarter-Final Highlights\n",
      "Video ID: K7BAQZwJmk0\n",
      "Category: Sports\n",
<<<<<<< HEAD
      "Views: 1831915\n",
=======
      "Views: 1832142\n",
>>>>>>> 93fcbab9c1f61c260f46a4169105d2039af3a09c
      "Likes: 16913\n",
      "Comments: 2582\n",
      "Duration: 4m 15s\n",
      "------------------------------\n",
      "Title: 410 (OFFICIAL VIDEO) SIDHU MOOSE WALA | SUNNY MALTON  |  Latest New Punjabi Songs 2024\n",
      "Video ID: F9gq_0HXoRI\n",
      "Category: Music\n",
<<<<<<< HEAD
      "Views: 12913789\n",
      "Likes: 928961\n",
      "Comments: 117255\n",
=======
      "Views: 12961158\n",
      "Likes: 929112\n",
      "Comments: 117260\n",
>>>>>>> 93fcbab9c1f61c260f46a4169105d2039af3a09c
      "Duration: 3m 52s\n",
      "------------------------------\n",
      "Title: UFC 300: Pre-Fight Press Conference\n",
      "Video ID: ezlJzCNrXZ0\n",
      "Category: Sports\n",
<<<<<<< HEAD
      "Views: 1157774\n",
      "Likes: 29466\n",
=======
      "Views: 1157964\n",
      "Likes: 29467\n",
>>>>>>> 93fcbab9c1f61c260f46a4169105d2039af3a09c
      "Comments: 3461\n",
      "Duration: 54m 26s\n",
      "------------------------------\n",
      "Title: Dark Matter — Official Trailer | Apple TV+\n",
      "Video ID: j6ucGt_Xp14\n",
      "Category: Entertainment\n",
<<<<<<< HEAD
      "Views: 4462107\n",
      "Likes: 15091\n",
      "Comments: 1055\n",
=======
      "Views: 4464267\n",
      "Likes: 15122\n",
      "Comments: 1058\n",
>>>>>>> 93fcbab9c1f61c260f46a4169105d2039af3a09c
      "Duration: 2m 52s\n",
      "------------------------------\n",
      "Title: I did Something Bad | Ep. 6 | Minecraft S0S\n",
      "Video ID: TxwN6dgO1uM\n",
      "Category: Gaming\n",
<<<<<<< HEAD
      "Views: 572877\n",
      "Likes: 38761\n",
      "Comments: 2380\n",
=======
      "Views: 573846\n",
      "Likes: 38798\n",
      "Comments: 2381\n",
>>>>>>> 93fcbab9c1f61c260f46a4169105d2039af3a09c
      "Duration: 15m 24s\n",
      "------------------------------\n",
      "Title: Has JWST SOLVED the crisis in cosmology?!\n",
      "Video ID: yKmPJmaeP8A\n",
      "Category: Science & Technology\n",
<<<<<<< HEAD
      "Views: 273676\n",
      "Likes: 15140\n",
      "Comments: 1351\n",
=======
      "Views: 274351\n",
      "Likes: 15156\n",
      "Comments: 1352\n",
>>>>>>> 93fcbab9c1f61c260f46a4169105d2039af3a09c
      "Duration: 23m 44s\n",
      "------------------------------\n",
      "Title: Chlöe - Boy Bye (Official Video)\n",
      "Video ID: QK1mAdqnJ1Q\n",
      "Category: Music\n",
<<<<<<< HEAD
      "Views: 573209\n",
      "Likes: 55037\n",
      "Comments: 3620\n",
=======
      "Views: 575813\n",
      "Likes: 55167\n",
      "Comments: 3622\n",
>>>>>>> 93fcbab9c1f61c260f46a4169105d2039af3a09c
      "Duration: 3m 21s\n",
      "------------------------------\n",
      "Title: Godzilla x Kong: The New Empire Pitch Meeting\n",
      "Video ID: 9JzhJCIALX0\n",
      "Category: Entertainment\n",
<<<<<<< HEAD
      "Views: 550567\n",
      "Likes: 45293\n",
      "Comments: 2468\n",
=======
      "Views: 551543\n",
      "Likes: 45326\n",
      "Comments: 2470\n",
>>>>>>> 93fcbab9c1f61c260f46a4169105d2039af3a09c
      "Duration: 5m 25s\n",
      "------------------------------\n",
      "Title: Everything is gone...\n",
      "Video ID: e069XIFk9K4\n",
      "Category: Autos & Vehicles\n",
<<<<<<< HEAD
      "Views: 997378\n",
      "Likes: 61454\n",
      "Comments: 6163\n",
=======
      "Views: 1002746\n",
      "Likes: 61628\n",
      "Comments: 6172\n",
>>>>>>> 93fcbab9c1f61c260f46a4169105d2039af3a09c
      "Duration: 17m 50s\n",
      "------------------------------\n",
      "Title: [4K] BABYMONSTER “SHEESH” Band LIVE Concert 세상을 SHEESH하게 만들 베몬 밴드라이브😈 [it’s KPOP LIVE 잇츠라이브]\n",
      "Video ID: FpOzMBwjSK0\n",
      "Category: Entertainment\n",
<<<<<<< HEAD
      "Views: 4824668\n",
      "Likes: 471423\n",
      "Comments: 24397\n",
=======
      "Views: 4830217\n",
      "Likes: 471713\n",
      "Comments: 24411\n",
>>>>>>> 93fcbab9c1f61c260f46a4169105d2039af3a09c
      "Duration: 5m 25s\n",
      "------------------------------\n",
      "Title: I Built an Invisible Katana (it's indestructible)\n",
      "Video ID: YQfC90O9HlI\n",
      "Category: Entertainment\n",
<<<<<<< HEAD
      "Views: 3428102\n",
      "Likes: 92975\n",
      "Comments: 4684\n",
=======
      "Views: 3447871\n",
      "Likes: 93400\n",
      "Comments: 4718\n",
>>>>>>> 93fcbab9c1f61c260f46a4169105d2039af3a09c
      "Duration: 22m 2s\n",
      "------------------------------\n",
      "Title: Speak No Evil | Official Trailer\n",
      "Video ID: FjzxI6uf8H8\n",
      "Category: Entertainment\n",
<<<<<<< HEAD
      "Views: 11021245\n",
      "Likes: 16157\n",
      "Comments: 1968\n",
=======
      "Views: 11107587\n",
      "Likes: 16177\n",
      "Comments: 1975\n",
>>>>>>> 93fcbab9c1f61c260f46a4169105d2039af3a09c
      "Duration: 2m 56s\n",
      "------------------------------\n",
      "Title: Pawn Stars: These Sellers Are Offered WAY MORE Than Expected\n",
      "Video ID: yHSPofOIGOU\n",
      "Category: Entertainment\n",
<<<<<<< HEAD
      "Views: 3496822\n",
      "Likes: 23058\n",
      "Comments: 2503\n",
=======
      "Views: 3518581\n",
      "Likes: 23169\n",
      "Comments: 2511\n",
>>>>>>> 93fcbab9c1f61c260f46a4169105d2039af3a09c
      "Duration: 20m 25s\n",
      "------------------------------\n",
      "Title: Kodak Black - Stressed Out [Official Music Video]\n",
      "Video ID: 9B9eR0IOK18\n",
      "Category: Music\n",
<<<<<<< HEAD
      "Views: 1618748\n",
      "Likes: 111223\n",
      "Comments: 8362\n",
=======
      "Views: 1626590\n",
      "Likes: 111555\n",
      "Comments: 8380\n",
>>>>>>> 93fcbab9c1f61c260f46a4169105d2039af3a09c
      "Duration: 4m 14s\n",
      "------------------------------\n",
      "Title: QWERTY [Official Visualizer]  - Linkin Park\n",
      "Video ID: Obu-R8kuz3w\n",
      "Category: Music\n",
<<<<<<< HEAD
      "Views: 501287\n",
      "Likes: 55731\n",
=======
      "Views: 502382\n",
      "Likes: 55795\n",
>>>>>>> 93fcbab9c1f61c260f46a4169105d2039af3a09c
      "Comments: 2841\n",
      "Duration: 3m 22s\n",
      "------------------------------\n",
      "Title: Civil War | Official Final Trailer HD | A24\n",
      "Video ID: c2G18nIVpNE\n",
      "Category: Film & Animation\n",
<<<<<<< HEAD
      "Views: 7800564\n",
      "Likes: 8249\n",
      "Comments: 1888\n",
=======
      "Views: 7805682\n",
      "Likes: 8268\n",
      "Comments: 1890\n",
>>>>>>> 93fcbab9c1f61c260f46a4169105d2039af3a09c
      "Duration: 1m 1s\n",
      "------------------------------\n",
      "Title: DRIVING MARCUS RASHFORDS WRECKED ROLLS ROYCE FOR THE FIRST TIME\n",
      "Video ID: fPAeRGBDrBM\n",
      "Category: Autos & Vehicles\n",
<<<<<<< HEAD
      "Views: 3619001\n",
      "Likes: 163036\n",
=======
      "Views: 3621528\n",
      "Likes: 163052\n",
>>>>>>> 93fcbab9c1f61c260f46a4169105d2039af3a09c
      "Comments: 5300\n",
      "Duration: 36m 9s\n",
      "------------------------------\n",
      "Title: We made a real DOGDAY Animatronic!\n",
      "Video ID: JyYQmekPqqI\n",
      "Category: Howto & Style\n",
<<<<<<< HEAD
      "Views: 1744469\n",
      "Likes: 51192\n",
      "Comments: 6835\n",
=======
      "Views: 1750921\n",
      "Likes: 51339\n",
      "Comments: 6844\n",
>>>>>>> 93fcbab9c1f61c260f46a4169105d2039af3a09c
      "Duration: 27m 55s\n",
      "------------------------------\n",
      "Title: I Took a Last Minute Cruise on An Old Ship - Worth It?\n",
      "Video ID: h02ew33tSbI\n",
      "Category: Entertainment\n",
<<<<<<< HEAD
      "Views: 461031\n",
      "Likes: 11631\n",
      "Comments: 1008\n",
=======
      "Views: 462603\n",
      "Likes: 11654\n",
      "Comments: 1011\n",
>>>>>>> 93fcbab9c1f61c260f46a4169105d2039af3a09c
      "Duration: 21m 15s\n",
      "------------------------------\n",
      "Title: We Played a YouTuber Simulator\n",
      "Video ID: crGbURdPRsc\n",
      "Category: Gaming\n",
<<<<<<< HEAD
      "Views: 1734525\n",
      "Likes: 108316\n",
      "Comments: 1588\n",
=======
      "Views: 1737201\n",
      "Likes: 108422\n",
      "Comments: 1589\n",
>>>>>>> 93fcbab9c1f61c260f46a4169105d2039af3a09c
      "Duration: 23m 51s\n",
      "------------------------------\n",
      "Title: Simon Says survive to win 10,000 v-bucks!\n",
      "Video ID: aVKXPYisye8\n",
      "Category: Gaming\n",
<<<<<<< HEAD
      "Views: 801098\n",
      "Likes: 12627\n",
      "Comments: 869\n",
=======
      "Views: 802059\n",
      "Likes: 12633\n",
      "Comments: 870\n",
>>>>>>> 93fcbab9c1f61c260f46a4169105d2039af3a09c
      "Duration: 24m 43s\n",
      "------------------------------\n",
      "Title: Helldivers 2 Review | TRIPLE THE DEFENSE BUDGET | Starship Bloopers\n",
      "Video ID: 6VChofV3d0E\n",
      "Category: Gaming\n",
<<<<<<< HEAD
      "Views: 1155514\n",
      "Likes: 113857\n",
      "Comments: 3739\n",
=======
      "Views: 1156889\n",
      "Likes: 113945\n",
      "Comments: 3742\n",
>>>>>>> 93fcbab9c1f61c260f46a4169105d2039af3a09c
      "Duration: 15m 15s\n",
      "------------------------------\n",
      "Title: The \"Artificial Intelligence\" Rice Cooker.\n",
      "Video ID: F_HOrMmWoMA\n",
      "Category: Science & Technology\n",
<<<<<<< HEAD
      "Views: 357278\n",
      "Likes: 25974\n",
      "Comments: 1774\n",
=======
      "Views: 357535\n",
      "Likes: 25987\n",
      "Comments: 1776\n",
>>>>>>> 93fcbab9c1f61c260f46a4169105d2039af3a09c
      "Duration: 9m 12s\n",
      "------------------------------\n",
      "Title: I Saw the US Solar Eclipse at Totality. Here's What I Found.\n",
      "Video ID: sx3YC63y2p8\n",
      "Category: Comedy\n",
<<<<<<< HEAD
      "Views: 119645\n",
      "Likes: 14050\n",
=======
      "Views: 119731\n",
      "Likes: 14059\n",
>>>>>>> 93fcbab9c1f61c260f46a4169105d2039af3a09c
      "Comments: 1582\n",
      "Duration: 10m 7s\n",
      "------------------------------\n",
      "Title: The 2025 Toyota 4Runner is HERE! First look\n",
      "Video ID: kIcZiVNC-sE\n",
      "Category: People & Blogs\n",
<<<<<<< HEAD
      "Views: 490364\n",
      "Likes: 15917\n",
      "Comments: 1126\n",
=======
      "Views: 491148\n",
      "Likes: 15932\n",
      "Comments: 1127\n",
>>>>>>> 93fcbab9c1f61c260f46a4169105d2039af3a09c
      "Duration: 11m 13s\n",
      "------------------------------\n",
      "Title: OPENING UP ABOUT MY WEIGHTLOSS... *down 70lbs in 6 months*\n",
      "Video ID: 0L68nC3OVQI\n",
      "Category: Entertainment\n",
<<<<<<< HEAD
      "Views: 272683\n",
      "Likes: 14141\n",
      "Comments: 671\n",
=======
      "Views: 273709\n",
      "Likes: 14180\n",
      "Comments: 672\n",
>>>>>>> 93fcbab9c1f61c260f46a4169105d2039af3a09c
      "Duration: 28m 4s\n",
      "------------------------------\n",
      "Title: Civil War - Movie Review\n",
      "Video ID: riNZJxVgMW0\n",
      "Category: Entertainment\n",
<<<<<<< HEAD
      "Views: 348175\n",
      "Likes: 14902\n",
      "Comments: 1810\n",
=======
      "Views: 348766\n",
      "Likes: 14915\n",
      "Comments: 1814\n",
>>>>>>> 93fcbab9c1f61c260f46a4169105d2039af3a09c
      "Duration: 8m 16s\n",
      "------------------------------\n",
      "Title: J. Cole Apologized\n",
      "Video ID: 8xhehywx29k\n",
      "Category: Music\n",
<<<<<<< HEAD
      "Views: 480030\n",
      "Likes: 21730\n",
      "Comments: 3655\n",
=======
      "Views: 480179\n",
      "Likes: 21732\n",
      "Comments: 3656\n",
>>>>>>> 93fcbab9c1f61c260f46a4169105d2039af3a09c
      "Duration: 8m 45s\n",
      "------------------------------\n",
      "Title: Gift Swap Challenge at Five Below! - Merrell Twins\n",
      "Video ID: KUT2IstU7Ig\n",
      "Category: Comedy\n",
<<<<<<< HEAD
      "Views: 222643\n",
      "Likes: 10145\n",
=======
      "Views: 222911\n",
      "Likes: 10152\n",
>>>>>>> 93fcbab9c1f61c260f46a4169105d2039af3a09c
      "Comments: 397\n",
      "Duration: 22m 3s\n",
      "------------------------------\n",
      "Title: Transformers: The Last Knight - Cosmonaut Picture Show\n",
      "Video ID: 8f-S01gjqI8\n",
      "Category: Entertainment\n",
<<<<<<< HEAD
      "Views: 440254\n",
      "Likes: 28010\n",
      "Comments: 1666\n",
=======
      "Views: 440764\n",
      "Likes: 28030\n",
      "Comments: 1667\n",
>>>>>>> 93fcbab9c1f61c260f46a4169105d2039af3a09c
      "Duration: 34m 51s\n",
      "------------------------------\n",
      "Title: Building the Redstone Shop! - Hermitcraft 10 #8\n",
      "Video ID: U1_0YRwTQr4\n",
      "Category: Gaming\n",
<<<<<<< HEAD
      "Views: 390201\n",
      "Likes: 29440\n",
      "Comments: 1185\n",
=======
      "Views: 390363\n",
      "Likes: 29448\n",
      "Comments: 1186\n",
>>>>>>> 93fcbab9c1f61c260f46a4169105d2039af3a09c
      "Duration: 26m 46s\n",
      "------------------------------\n",
      "Title: IShowSpeed at WWE Wrestlemania..\n",
      "Video ID: 06MlcC1T2vo\n",
      "Category: Gaming\n",
<<<<<<< HEAD
      "Views: 4211741\n",
      "Likes: 227408\n",
      "Comments: 10039\n",
=======
      "Views: 4216927\n",
      "Likes: 227553\n",
      "Comments: 10043\n",
>>>>>>> 93fcbab9c1f61c260f46a4169105d2039af3a09c
      "Duration: 7m 28s\n",
      "------------------------------\n",
      "\n",
      "Top Trending Videos in Canada:\n",
      "Title: Sabrina Carpenter - Espresso (Official Video)\n",
      "Video ID: eVli-tstM5E\n",
      "Category: Music\n",
<<<<<<< HEAD
      "Views: 3048899\n",
      "Likes: 241436\n",
      "Comments: 8197\n",
=======
      "Views: 3067840\n",
      "Likes: 242245\n",
      "Comments: 8217\n",
>>>>>>> 93fcbab9c1f61c260f46a4169105d2039af3a09c
      "Duration: 3m 21s\n",
      "------------------------------\n",
      "Title: Conan O'Brien Needs a Doctor While Eating Spicy Wings | Hot Ones\n",
      "Video ID: FALlhXl6CmA\n",
      "Category: Entertainment\n",
<<<<<<< HEAD
      "Views: 5326416\n",
      "Likes: 342933\n",
      "Comments: 34884\n",
=======
      "Views: 5348291\n",
      "Likes: 343916\n",
      "Comments: 34962\n",
>>>>>>> 93fcbab9c1f61c260f46a4169105d2039af3a09c
      "Duration: 27m 21s\n",
      "------------------------------\n",
      "Title: Tom MacDonald - \"God Mode\"\n",
      "Video ID: YyAumYg5Hxc\n",
      "Category: People & Blogs\n",
<<<<<<< HEAD
      "Views: 1440715\n",
      "Likes: 168045\n",
      "Comments: 34220\n",
=======
      "Views: 1448420\n",
      "Likes: 169017\n",
      "Comments: 34358\n",
>>>>>>> 93fcbab9c1f61c260f46a4169105d2039af3a09c
      "Duration: 8m 25s\n",
      "------------------------------\n",
      "Title: What Happened To The Nautilus?\n",
      "Video ID: 8AbtCE-sePc\n",
      "Category: Education\n",
<<<<<<< HEAD
      "Views: 1944443\n",
      "Likes: 62002\n",
      "Comments: 1520\n",
=======
      "Views: 1971786\n",
      "Likes: 62483\n",
      "Comments: 1527\n",
>>>>>>> 93fcbab9c1f61c260f46a4169105d2039af3a09c
      "Duration: 16m 57s\n",
      "------------------------------\n",
      "Title: Bridgerton Season 3 | Official Trailer | Netflix\n",
      "Video ID: U4JYAx5rNRA\n",
      "Category: Entertainment\n",
<<<<<<< HEAD
      "Views: 4387749\n",
      "Likes: 160305\n",
      "Comments: 6576\n",
=======
      "Views: 4397299\n",
      "Likes: 160460\n",
      "Comments: 6578\n",
>>>>>>> 93fcbab9c1f61c260f46a4169105d2039af3a09c
      "Duration: 2m 48s\n",
      "------------------------------\n",
      "Title: Dua Lipa - Illusion (Official Music Video)\n",
      "Video ID: a9cyG_yfh1k\n",
      "Category: Music\n",
<<<<<<< HEAD
      "Views: 5700590\n",
      "Likes: 279930\n",
      "Comments: 14376\n",
=======
      "Views: 5721824\n",
      "Likes: 280351\n",
      "Comments: 14388\n",
>>>>>>> 93fcbab9c1f61c260f46a4169105d2039af3a09c
      "Duration: 3m 7s\n",
      "------------------------------\n",
      "Title: Genshin Impact Version 4.6 Special Program #NewVersion #SpecialProgram #GenshinImpact\n",
      "Video ID: LYZW7wH3pVM\n",
      "Category: Gaming\n",
<<<<<<< HEAD
      "Views: 1154011\n",
      "Likes: 69847\n",
      "Comments: 4476\n",
=======
      "Views: 1154830\n",
      "Likes: 69871\n",
      "Comments: 4477\n",
>>>>>>> 93fcbab9c1f61c260f46a4169105d2039af3a09c
      "Duration: 39m 16s\n",
      "------------------------------\n",
      "Title: 410 (OFFICIAL VIDEO) SIDHU MOOSE WALA | SUNNY MALTON  |  Latest New Punjabi Songs 2024\n",
      "Video ID: F9gq_0HXoRI\n",
      "Category: Music\n",
<<<<<<< HEAD
      "Views: 12913789\n",
      "Likes: 928961\n",
      "Comments: 117255\n",
=======
      "Views: 12961158\n",
      "Likes: 929113\n",
      "Comments: 117260\n",
>>>>>>> 93fcbab9c1f61c260f46a4169105d2039af3a09c
      "Duration: 3m 52s\n",
      "------------------------------\n",
      "Title: Version 4.6 \"Two Worlds Aflame, the Crimson Night Fades\" Trailer | Genshin Impact\n",
      "Video ID: 5WLAUxb8AUk\n",
      "Category: Gaming\n",
<<<<<<< HEAD
      "Views: 1111518\n",
      "Likes: 82501\n",
      "Comments: 3531\n",
=======
      "Views: 1113790\n",
      "Likes: 82600\n",
      "Comments: 3535\n",
>>>>>>> 93fcbab9c1f61c260f46a4169105d2039af3a09c
      "Duration: 4m 58s\n",
      "------------------------------\n",
      "Title: Can You Beat Minecraft in a Potato ONLY World?\n",
      "Video ID: P53UY4uIlYY\n",
      "Category: Gaming\n",
<<<<<<< HEAD
      "Views: 801036\n",
      "Likes: 27010\n",
      "Comments: 2485\n",
=======
      "Views: 803457\n",
      "Likes: 27058\n",
      "Comments: 2486\n",
>>>>>>> 93fcbab9c1f61c260f46a4169105d2039af3a09c
      "Duration: 51m 43s\n",
      "------------------------------\n",
      "Title: Shaboozey - A Bar Song (Tipsy) [Official Visualizer]\n",
      "Video ID: t7bQwwqW-Hc\n",
      "Category: Music\n",
<<<<<<< HEAD
      "Views: 1380388\n",
      "Likes: 44502\n",
      "Comments: 1353\n",
=======
      "Views: 1384729\n",
      "Likes: 44618\n",
      "Comments: 1358\n",
>>>>>>> 93fcbab9c1f61c260f46a4169105d2039af3a09c
      "Duration: 2m 54s\n",
      "------------------------------\n",
      "Title: I made FLAPPY BIRD in DUMB programs\n",
      "Video ID: djIufZ7Fyms\n",
      "Category: Education\n",
<<<<<<< HEAD
      "Views: 908961\n",
      "Likes: 80271\n",
      "Comments: 3327\n",
=======
      "Views: 912030\n",
      "Likes: 80424\n",
      "Comments: 3328\n",
>>>>>>> 93fcbab9c1f61c260f46a4169105d2039af3a09c
      "Duration: 19m 35s\n",
      "------------------------------\n",
      "Title: UFC 300: Pre-Fight Press Conference\n",
      "Video ID: ezlJzCNrXZ0\n",
      "Category: Sports\n",
<<<<<<< HEAD
      "Views: 1157774\n",
      "Likes: 29466\n",
=======
      "Views: 1157964\n",
      "Likes: 29467\n",
>>>>>>> 93fcbab9c1f61c260f46a4169105d2039af3a09c
      "Comments: 3461\n",
      "Duration: 54m 26s\n",
      "------------------------------\n",
      "Title: Coming Soon: New Pokémon GO Updates\n",
      "Video ID: 7D0wFf4GqLI\n",
      "Category: Gaming\n",
<<<<<<< HEAD
      "Views: 549363\n",
      "Likes: 4935\n",
      "Comments: 1725\n",
=======
      "Views: 549860\n",
      "Likes: 4939\n",
      "Comments: 1727\n",
>>>>>>> 93fcbab9c1f61c260f46a4169105d2039af3a09c
      "Duration: 0m 15s\n",
      "------------------------------\n",
      "Title: Bryson DeChambeau's First Round | Every Single Shot | The Masters\n",
      "Video ID: OU__5jImEm0\n",
      "Category: Sports\n",
<<<<<<< HEAD
      "Views: 582321\n",
=======
      "Views: 582607\n",
>>>>>>> 93fcbab9c1f61c260f46a4169105d2039af3a09c
      "Likes: 5861\n",
      "Comments: 560\n",
      "Duration: 10m 50s\n",
      "------------------------------\n",
      "Title: Kendall Jenner’s Guide to “Spring French Girl\" Makeup | Beauty Secrets | Vogue\n",
      "Video ID: oQkQv1ULyzs\n",
      "Category: Entertainment\n",
<<<<<<< HEAD
      "Views: 1380811\n",
      "Likes: 53340\n",
      "Comments: 1412\n",
=======
      "Views: 1384941\n",
      "Likes: 53426\n",
      "Comments: 1413\n",
>>>>>>> 93fcbab9c1f61c260f46a4169105d2039af3a09c
      "Duration: 11m 27s\n",
      "------------------------------\n",
      "Title: Joker: Folie à Deux | Official Teaser Trailer\n",
      "Video ID: xy8aJw1vYHo\n",
      "Category: Film & Animation\n",
<<<<<<< HEAD
      "Views: 28854524\n",
      "Likes: 845834\n",
      "Comments: 39798\n",
=======
      "Views: 28883267\n",
      "Likes: 846438\n",
      "Comments: 39829\n",
>>>>>>> 93fcbab9c1f61c260f46a4169105d2039af3a09c
      "Duration: 2m 25s\n",
      "------------------------------\n",
      "Title: Zach Bryan - 28\n",
      "Video ID: XN39ZM0Ip1I\n",
      "Category: Music\n",
<<<<<<< HEAD
      "Views: 259196\n",
      "Likes: 13878\n",
      "Comments: 1019\n",
=======
      "Views: 260377\n",
      "Likes: 13913\n",
      "Comments: 1021\n",
>>>>>>> 93fcbab9c1f61c260f46a4169105d2039af3a09c
      "Duration: 3m 18s\n",
      "------------------------------\n",
      "Title: Hermitcraft 10 - Ep 11:  This Episode Changes Everything!\n",
      "Video ID: 3BMJT3j2mkU\n",
      "Category: Gaming\n",
<<<<<<< HEAD
      "Views: 520876\n",
      "Likes: 40266\n",
      "Comments: 2665\n",
=======
      "Views: 521968\n",
      "Likes: 40319\n",
      "Comments: 2671\n",
>>>>>>> 93fcbab9c1f61c260f46a4169105d2039af3a09c
      "Duration: 25m 5s\n",
      "------------------------------\n",
      "Title: Goldman's father reflects on OJ's death, addresses his 'new normal'\n",
      "Video ID: g2N1CaSDOCg\n",
      "Category: News & Politics\n",
<<<<<<< HEAD
      "Views: 358565\n",
      "Likes: 4680\n",
      "Comments: 2579\n",
=======
      "Views: 361039\n",
      "Likes: 4695\n",
      "Comments: 2585\n",
>>>>>>> 93fcbab9c1f61c260f46a4169105d2039af3a09c
      "Duration: 4m 48s\n",
      "------------------------------\n",
      "Title: I Built The Most Ridiculous End Portal In Minecraft Hardcore\n",
      "Video ID: TjVXrw80MfU\n",
      "Category: Gaming\n",
<<<<<<< HEAD
      "Views: 669722\n",
      "Likes: 52358\n",
=======
      "Views: 671721\n",
      "Likes: 52437\n",
>>>>>>> 93fcbab9c1f61c260f46a4169105d2039af3a09c
      "Comments: 2848\n",
      "Duration: 19m 24s\n",
      "------------------------------\n",
      "Title: NLE Choppa - SLUT ME OUT 2 (Official Music Video)\n",
      "Video ID: oSca__bu0is\n",
      "Category: Music\n",
<<<<<<< HEAD
      "Views: 513496\n",
      "Likes: 33792\n",
      "Comments: 2704\n",
=======
      "Views: 516234\n",
      "Likes: 33923\n",
      "Comments: 2716\n",
>>>>>>> 93fcbab9c1f61c260f46a4169105d2039af3a09c
      "Duration: 2m 26s\n",
      "------------------------------\n",
      "Title: I DESTROYED A ROLLS ROYCE TO REBUILD MARCUS RASHFORDS WRAITH\n",
      "Video ID: 5VFLKunsQqo\n",
      "Category: Autos & Vehicles\n",
<<<<<<< HEAD
      "Views: 1912825\n",
      "Likes: 68254\n",
=======
      "Views: 1914756\n",
      "Likes: 68267\n",
>>>>>>> 93fcbab9c1f61c260f46a4169105d2039af3a09c
      "Comments: 3863\n",
      "Duration: 23m 0s\n",
      "------------------------------\n",
      "Title: Tinashe - Nasty (Official Video)\n",
      "Video ID: jrjESdPsLxE\n",
      "Category: Music\n",
<<<<<<< HEAD
      "Views: 403940\n",
      "Likes: 34158\n",
      "Comments: 2099\n",
=======
      "Views: 405704\n",
      "Likes: 34257\n",
      "Comments: 2105\n",
>>>>>>> 93fcbab9c1f61c260f46a4169105d2039af3a09c
      "Duration: 3m 0s\n",
      "------------------------------\n",
      "Title: [4K] BABYMONSTER “SHEESH” Band LIVE Concert 세상을 SHEESH하게 만들 베몬 밴드라이브😈 [it’s KPOP LIVE 잇츠라이브]\n",
      "Video ID: FpOzMBwjSK0\n",
      "Category: Entertainment\n",
<<<<<<< HEAD
      "Views: 4824668\n",
      "Likes: 471425\n",
      "Comments: 24397\n",
=======
      "Views: 4830217\n",
      "Likes: 471712\n",
      "Comments: 24411\n",
>>>>>>> 93fcbab9c1f61c260f46a4169105d2039af3a09c
      "Duration: 5m 25s\n",
      "------------------------------\n",
      "Title: Season 10: Venture Forth | Overwatch 2 Official Trailer\n",
      "Video ID: BlUxw-0lS94\n",
      "Category: Gaming\n",
<<<<<<< HEAD
      "Views: 596196\n",
      "Likes: 32060\n",
      "Comments: 3487\n",
=======
      "Views: 596840\n",
      "Likes: 32071\n",
      "Comments: 3488\n",
>>>>>>> 93fcbab9c1f61c260f46a4169105d2039af3a09c
      "Duration: 2m 25s\n",
      "------------------------------\n",
      "Title: $100,000 Or A Helicopter? What Do I Choose? Also Justin Destroys His New Burnout Truck!!!\n",
      "Video ID: Q8eFLjrIlmU\n",
      "Category: People & Blogs\n",
<<<<<<< HEAD
      "Views: 316050\n",
      "Likes: 14629\n",
=======
      "Views: 316572\n",
      "Likes: 14643\n",
>>>>>>> 93fcbab9c1f61c260f46a4169105d2039af3a09c
      "Comments: 1392\n",
      "Duration: 32m 17s\n",
      "------------------------------\n",
      "Title: Chlöe - Boy Bye (Official Video)\n",
      "Video ID: QK1mAdqnJ1Q\n",
      "Category: Music\n",
<<<<<<< HEAD
      "Views: 573209\n",
      "Likes: 55037\n",
      "Comments: 3620\n",
      "Duration: 3m 21s\n",
      "------------------------------\n",
      "Title: Dark Matter — Official Trailer | Apple TV+\n",
      "Video ID: j6ucGt_Xp14\n",
      "Category: Entertainment\n",
      "Views: 4462107\n",
      "Likes: 15091\n",
      "Comments: 1055\n",
      "Duration: 2m 52s\n",
      "------------------------------\n",
      "Title: Sabrina Carpenter - Espresso (Official Audio)\n",
      "Video ID: 51zjlMhdSTE\n",
      "Category: Music\n",
      "Views: 552536\n",
      "Likes: 53263\n",
      "Comments: 2771\n",
      "Duration: 2m 56s\n",
      "------------------------------\n",
      "Title: Zach Bryan - Like Ida\n",
      "Video ID: AqBqTCqqbnU\n",
      "Category: Music\n",
      "Views: 206569\n",
      "Likes: 13285\n",
      "Comments: 649\n",
=======
      "Views: 575813\n",
      "Likes: 55167\n",
      "Comments: 3622\n",
      "Duration: 3m 21s\n",
      "------------------------------\n",
      "Title: Sabrina Carpenter - Espresso (Official Audio)\n",
      "Video ID: 51zjlMhdSTE\n",
      "Category: Music\n",
      "Views: 554431\n",
      "Likes: 53307\n",
      "Comments: 2773\n",
      "Duration: 2m 56s\n",
      "------------------------------\n",
      "Title: Dark Matter — Official Trailer | Apple TV+\n",
      "Video ID: j6ucGt_Xp14\n",
      "Category: Entertainment\n",
      "Views: 4464267\n",
      "Likes: 15122\n",
      "Comments: 1058\n",
      "Duration: 2m 52s\n",
      "------------------------------\n",
      "Title: Zach Bryan - Like Ida\n",
      "Video ID: AqBqTCqqbnU\n",
      "Category: Music\n",
      "Views: 207158\n",
      "Likes: 13309\n",
      "Comments: 650\n",
>>>>>>> 93fcbab9c1f61c260f46a4169105d2039af3a09c
      "Duration: 3m 42s\n",
      "------------------------------\n",
      "Title: Pawn Stars: These Sellers Are Offered WAY MORE Than Expected\n",
      "Video ID: yHSPofOIGOU\n",
      "Category: Entertainment\n",
<<<<<<< HEAD
      "Views: 3496822\n",
      "Likes: 23058\n",
      "Comments: 2503\n",
=======
      "Views: 3518581\n",
      "Likes: 23169\n",
      "Comments: 2511\n",
>>>>>>> 93fcbab9c1f61c260f46a4169105d2039af3a09c
      "Duration: 20m 25s\n",
      "------------------------------\n",
      "Title: I Built an Invisible Katana (it's indestructible)\n",
      "Video ID: YQfC90O9HlI\n",
      "Category: Entertainment\n",
<<<<<<< HEAD
      "Views: 3428102\n",
      "Likes: 92976\n",
      "Comments: 4684\n",
=======
      "Views: 3447871\n",
      "Likes: 93400\n",
      "Comments: 4718\n",
>>>>>>> 93fcbab9c1f61c260f46a4169105d2039af3a09c
      "Duration: 22m 2s\n",
      "------------------------------\n",
      "Title: Fortnite x Avatar: Elements - Gameplay Trailer\n",
      "Video ID: S8aKWCxiLps\n",
      "Category: Gaming\n",
<<<<<<< HEAD
      "Views: 2067001\n",
      "Likes: 32352\n",
      "Comments: 2337\n",
=======
      "Views: 2087912\n",
      "Likes: 32363\n",
      "Comments: 2340\n",
>>>>>>> 93fcbab9c1f61c260f46a4169105d2039af3a09c
      "Duration: 0m 51s\n",
      "------------------------------\n",
      "Title: We made a real DOGDAY Animatronic!\n",
      "Video ID: JyYQmekPqqI\n",
      "Category: Howto & Style\n",
<<<<<<< HEAD
      "Views: 1744469\n",
      "Likes: 51192\n",
      "Comments: 6835\n",
=======
      "Views: 1750921\n",
      "Likes: 51339\n",
      "Comments: 6844\n",
>>>>>>> 93fcbab9c1f61c260f46a4169105d2039af3a09c
      "Duration: 27m 55s\n",
      "------------------------------\n",
      "Title: I did Something Bad | Ep. 6 | Minecraft S0S\n",
      "Video ID: TxwN6dgO1uM\n",
      "Category: Gaming\n",
<<<<<<< HEAD
      "Views: 572877\n",
      "Likes: 38761\n",
      "Comments: 2380\n",
=======
      "Views: 573846\n",
      "Likes: 38798\n",
      "Comments: 2381\n",
>>>>>>> 93fcbab9c1f61c260f46a4169105d2039af3a09c
      "Duration: 15m 24s\n",
      "------------------------------\n",
      "Title: 2025 Toyota 4Runner FULL Tour: It's Finally Here!\n",
      "Video ID: kmtbk0siRIM\n",
      "Category: Autos & Vehicles\n",
<<<<<<< HEAD
      "Views: 1304123\n",
      "Likes: 27161\n",
      "Comments: 4232\n",
=======
      "Views: 1306345\n",
      "Likes: 27192\n",
      "Comments: 4235\n",
>>>>>>> 93fcbab9c1f61c260f46a4169105d2039af3a09c
      "Duration: 27m 49s\n",
      "------------------------------\n",
      "Title: We Played a YouTuber Simulator\n",
      "Video ID: crGbURdPRsc\n",
      "Category: Gaming\n",
<<<<<<< HEAD
      "Views: 1734525\n",
      "Likes: 108317\n",
      "Comments: 1588\n",
=======
      "Views: 1737201\n",
      "Likes: 108422\n",
      "Comments: 1589\n",
>>>>>>> 93fcbab9c1f61c260f46a4169105d2039af3a09c
      "Duration: 23m 51s\n",
      "------------------------------\n",
      "Title: The 8K Era Is Here - Our Next Camera, April 16\n",
      "Video ID: frM1_rmltU8\n",
      "Category: Science & Technology\n",
<<<<<<< HEAD
      "Views: 276028\n",
      "Likes: 4877\n",
      "Comments: 8775\n",
=======
      "Views: 276907\n",
      "Likes: 4884\n",
      "Comments: 8782\n",
>>>>>>> 93fcbab9c1f61c260f46a4169105d2039af3a09c
      "Duration: 0m 38s\n",
      "------------------------------\n",
      "Title: IT'S WEDDING WEEKEND!!! The Rehearsal & Welcome Party!!\n",
      "Video ID: dprcKCAmsTI\n",
      "Category: People & Blogs\n",
<<<<<<< HEAD
      "Views: 179406\n",
      "Likes: 9694\n",
=======
      "Views: 179854\n",
      "Likes: 9709\n",
>>>>>>> 93fcbab9c1f61c260f46a4169105d2039af3a09c
      "Comments: 441\n",
      "Duration: 23m 50s\n",
      "------------------------------\n",
      "Title: The 2025 Toyota 4Runner is HERE! First look\n",
      "Video ID: kIcZiVNC-sE\n",
      "Category: People & Blogs\n",
<<<<<<< HEAD
      "Views: 490364\n",
      "Likes: 15917\n",
      "Comments: 1126\n",
=======
      "Views: 491148\n",
      "Likes: 15932\n",
      "Comments: 1127\n",
>>>>>>> 93fcbab9c1f61c260f46a4169105d2039af3a09c
      "Duration: 11m 13s\n",
      "------------------------------\n",
      "Title: We Still Don't Trust You\n",
      "Video ID: VY2JoNWi-9o\n",
      "Category: Music\n",
<<<<<<< HEAD
      "Views: 623961\n",
      "Likes: 20198\n",
      "Comments: 658\n",
=======
      "Views: 627167\n",
      "Likes: 20255\n",
      "Comments: 659\n",
>>>>>>> 93fcbab9c1f61c260f46a4169105d2039af3a09c
      "Duration: 4m 13s\n",
      "------------------------------\n",
      "Title: I Cheated With SCARY CAMERA In Build Battle...\n",
      "Video ID: amHIb5BL6gE\n",
      "Category: Gaming\n",
<<<<<<< HEAD
      "Views: 523716\n",
      "Likes: 8010\n",
=======
      "Views: 524329\n",
      "Likes: 8016\n",
>>>>>>> 93fcbab9c1f61c260f46a4169105d2039af3a09c
      "Comments: 350\n",
      "Duration: 23m 46s\n",
      "------------------------------\n",
      "Title: Helldivers 2 Review | TRIPLE THE DEFENSE BUDGET | Starship Bloopers\n",
      "Video ID: 6VChofV3d0E\n",
      "Category: Gaming\n",
<<<<<<< HEAD
      "Views: 1155514\n",
      "Likes: 113857\n",
      "Comments: 3739\n",
=======
      "Views: 1156889\n",
      "Likes: 113945\n",
      "Comments: 3742\n",
>>>>>>> 93fcbab9c1f61c260f46a4169105d2039af3a09c
      "Duration: 15m 15s\n",
      "------------------------------\n",
      "Title: Julian Newman, D’Aydrian, Paul Pierce vs Josh Richards, Cash Nasty, Demarcus Cousins!\n",
      "Video ID: xamGwv3zPCU\n",
      "Category: Sports\n",
<<<<<<< HEAD
      "Views: 316033\n",
      "Likes: 7412\n",
      "Comments: 1240\n",
=======
      "Views: 317628\n",
      "Likes: 7433\n",
      "Comments: 1246\n",
>>>>>>> 93fcbab9c1f61c260f46a4169105d2039af3a09c
      "Duration: 16m 55s\n",
      "------------------------------\n",
      "Title: DRIVING MARCUS RASHFORDS WRECKED ROLLS ROYCE FOR THE FIRST TIME\n",
      "Video ID: fPAeRGBDrBM\n",
      "Category: Autos & Vehicles\n",
<<<<<<< HEAD
      "Views: 3619001\n",
      "Likes: 163036\n",
=======
      "Views: 3621528\n",
      "Likes: 163052\n",
>>>>>>> 93fcbab9c1f61c260f46a4169105d2039af3a09c
      "Comments: 5300\n",
      "Duration: 36m 9s\n",
      "------------------------------\n",
      "Title: Simon Says survive to win 10,000 v-bucks!\n",
      "Video ID: aVKXPYisye8\n",
      "Category: Gaming\n",
<<<<<<< HEAD
      "Views: 801098\n",
      "Likes: 12627\n",
      "Comments: 869\n",
=======
      "Views: 802059\n",
      "Likes: 12633\n",
      "Comments: 870\n",
>>>>>>> 93fcbab9c1f61c260f46a4169105d2039af3a09c
      "Duration: 24m 43s\n",
      "------------------------------\n",
      "Title: Final Shape: Prismatic Subclasses. 2 Exotics at once. New enemy types. They actually cooked.\n",
      "Video ID: fampr-iP_y4\n",
      "Category: Gaming\n",
<<<<<<< HEAD
      "Views: 279383\n",
      "Likes: 11822\n",
=======
      "Views: 279514\n",
      "Likes: 11823\n",
>>>>>>> 93fcbab9c1f61c260f46a4169105d2039af3a09c
      "Comments: 1217\n",
      "Duration: 20m 51s\n",
      "------------------------------\n",
      "Title: Detailed Look! All New 2025 6th Gen Toyota 4Runner TRD Pro!\n",
      "Video ID: yvB5gQVyVtI\n",
      "Category: Autos & Vehicles\n",
<<<<<<< HEAD
      "Views: 136580\n",
=======
      "Views: 136648\n",
>>>>>>> 93fcbab9c1f61c260f46a4169105d2039af3a09c
      "Likes: 3768\n",
      "Comments: 846\n",
      "Duration: 14m 31s\n",
      "------------------------------\n",
      "Title: The \"Artificial Intelligence\" Rice Cooker.\n",
      "Video ID: F_HOrMmWoMA\n",
      "Category: Science & Technology\n",
<<<<<<< HEAD
      "Views: 357278\n",
      "Likes: 25974\n",
      "Comments: 1774\n",
=======
      "Views: 357535\n",
      "Likes: 25987\n",
      "Comments: 1776\n",
>>>>>>> 93fcbab9c1f61c260f46a4169105d2039af3a09c
      "Duration: 9m 12s\n",
      "------------------------------\n",
      "Error processing video: 'viewCount' for US\n",
      "Error processing video: 'viewCount' for US\n",
      "Error processing video: 'commentCount' for US\n",
      "Error processing video: 'likeCount' for US\n",
      "Trending videos for United States exported to trending_videos_United States.csv\n",
      "Trending videos for United Kingdom exported to trending_videos_United Kingdom.csv\n",
      "Trending videos for Canada exported to trending_videos_Canada.csv\n"
     ]
    }
   ],
   "source": [
    "# Dependencies\n",
    "import pandas as pd\n",
    "import requests\n",
    "import json\n",
    "from matplotlib import pyplot as plt\n",
    "from googleapiclient.discovery import build\n",
    "import isodate\n",
<<<<<<< HEAD
=======
    "import numpy as np\n",
    "import scipy.stats as stats\n",
>>>>>>> 93fcbab9c1f61c260f46a4169105d2039af3a09c
    "\n",
    "# Import the API key\n",
    "from config import api_key\n",
    "\n",
    "# Initialize YouTube Data API v3\n",
    "youtube = build('youtube', 'v3', developerKey=api_key)\n",
    "\n",
    "# Define the region codes for US(United States), GB(United Kingdom), and CA(Canada)\n",
    "regions = {\n",
    "    \"US\": \"United States\",\n",
    "    \"GB\": \"United Kingdom\",\n",
    "    \"CA\": \"Canada\"\n",
    "}\n",
    "\n",
    "def get_video_category(category_id):\n",
    "\n",
    "    request = youtube.videoCategories().list(\n",
    "        part=\"snippet\",\n",
    "        id=category_id\n",
    "    )\n",
    "    response = request.execute()\n",
    "    category_name = response[\"items\"][0][\"snippet\"][\"title\"]\n",
    "    return category_name\n",
    "\n",
    "def format_duration(duration):\n",
    "    \n",
    "    duration_obj = isodate.parse_duration(duration)\n",
    "    minutes = duration_obj.total_seconds() // 60\n",
    "    seconds = duration_obj.total_seconds() % 60\n",
    "    return f\"{int(minutes)}m {int(seconds)}s\"\n",
    "    \n",
    "def get_trending_videos(region_code):\n",
    "    # Call the API to get the top trending videos\n",
    "    request = youtube.videos().list(\n",
    "        part=\"snippet,statistics,contentDetails\",\n",
    "        chart=\"mostPopular\",\n",
    "        regionCode=region_code,\n",
    "        maxResults=100\n",
    "    )\n",
    "    response = request.execute()\n",
    "\n",
    "    # Extract video information\n",
    "    videos = []\n",
    "    for item in response[\"items\"]:\n",
    "        try:\n",
    "            video_id = item[\"id\"]\n",
    "            video_title = item[\"snippet\"][\"title\"]\n",
    "            video_category_id = item[\"snippet\"][\"categoryId\"]\n",
    "            video_category_name = get_video_category(video_category_id)\n",
    "            video_views = item[\"statistics\"][\"viewCount\"]\n",
    "            video_likes = item[\"statistics\"][\"likeCount\"]\n",
    "            video_comments = item[\"statistics\"][\"commentCount\"]\n",
    "            video_duration = format_duration(item[\"contentDetails\"][\"duration\"])\n",
    "            videos.append({\n",
    "                \"id\": video_id,\n",
    "                \"title\": video_title,\n",
    "                \"category\": video_category_name,\n",
    "                \"views\": video_views,\n",
    "                \"likes\": video_likes,\n",
    "                \"comments\": video_comments,\n",
    "                \"duration\": video_duration\n",
    "            })\n",
    "        except Exception as e:\n",
    "            print(f\"Error processing video: {e} for {region_code}\")\n",
    "    return videos\n",
    "\n",
    "\n",
    "# Get trending videos for each region\n",
    "for region_code, region_name in regions.items():\n",
    "    print(f\"\\nTop Trending Videos in {region_name}:\")\n",
    "    trending_videos = get_trending_videos(region_code)\n",
    "    for video in trending_videos:\n",
    "        print(f\"Title: {video['title']}\")\n",
    "        print(f\"Video ID: {video['id']}\")\n",
    "        print(f\"Category: {video['category']}\")\n",
    "        print(f\"Views: {video['views']}\")\n",
    "        print(f\"Likes: {video['likes']}\")\n",
    "        print(f\"Comments: {video['comments']}\")\n",
    "        print(f\"Duration: {video['duration']}\")\n",
    "        print(\"-\" * 30)\n",
    "\n",
    "for region_code, region_name in regions.items():\n",
    "    trending_videos = get_trending_videos(region_code)\n",
    "    df = pd.DataFrame(trending_videos)\n",
    "    file_name = f\"trending_videos_{region_name}.csv\"\n",
    "    df.to_csv(file_name, index=False)\n",
    "    print(f\"Trending videos for {region_name} exported to {file_name}\")"
   ]
  },
  {
   "cell_type": "code",
   "execution_count": 4,
   "id": "e205c5fe-9610-4e5e-ba30-0a8d6d7fe3f1",
   "metadata": {},
   "outputs": [],
   "source": [
    "## Sophia\n",
    "#Getting the statistical measures for the trending YouTube Videos."
   ]
  },
  {
   "cell_type": "code",
   "execution_count": 5,
   "id": "360347e8-3d57-4c6e-b04c-a5d639e22bd8",
   "metadata": {},
   "outputs": [],
   "source": [
    "#Reading each of the CSV files:\n",
<<<<<<< HEAD
    "import numpy as np\n",
=======
>>>>>>> 93fcbab9c1f61c260f46a4169105d2039af3a09c
    "trending_videos_ca = pd.read_csv('trending_videos_Canada.csv')\n",
    "trending_videos_us = pd.read_csv('trending_videos_United States.csv')\n",
    "trending_videos_gb = pd.read_csv('trending_videos_United Kingdom.csv')"
   ]
  },
  {
   "cell_type": "code",
   "execution_count": 6,
   "id": "b70464a9-7969-495a-bbf8-d0dd27c1c088",
   "metadata": {},
   "outputs": [
    {
     "name": "stdout",
     "output_type": "stream",
     "text": [
      "Statistics for Canada:\n",
      "\n",
      "views:\n",
<<<<<<< HEAD
      "Mean: 2238508.76\n",
      "Median: 855029.5\n",
      "Variance: 19119810054018.83\n",
      "Std. Deviation: 4372620.5\n",
      "Std. Error: 618381.92\n",
      "------------------------------\n",
      "\n",
      "comments:\n",
      "Mean: 7704.02\n",
      "Median: 2622.0\n",
      "Variance: 321152798.66\n",
      "Std. Deviation: 17920.74\n",
      "Std. Error: 2534.38\n",
=======
      "Mean: 2244780.52\n",
      "Median: 857743.5\n",
      "Variance: 19177033308315.52\n",
      "Std. Deviation: 4379158.97\n",
      "Std. Error: 619306.6\n",
      "------------------------------\n",
      "\n",
      "comments:\n",
      "Mean: 7712.86\n",
      "Median: 2628.0\n",
      "Variance: 321435014.52\n",
      "Std. Deviation: 17928.61\n",
      "Std. Error: 2535.49\n",
>>>>>>> 93fcbab9c1f61c260f46a4169105d2039af3a09c
      "------------------------------\n"
     ]
    }
   ],
   "source": [
    "# Defining columns and dictionary to store statistics for each region and column\n",
    "#For Canada\n",
    "numerical_columns = ['views', 'comments']\n",
    "ca_stats = {}\n",
    "    # Iterate over each numerical column\n",
    "for column in numerical_columns:\n",
    "    numeric_values = pd.to_numeric(trending_videos_ca[column], errors='coerce')\n",
    "    numeric_values = numeric_values.dropna()\n",
    "        \n",
    "        # Calculate statistics\n",
    "    mean = round(np.mean(numeric_values),2)\n",
    "    median = round(np.median(numeric_values),2)\n",
    "    variance = round(np.var(numeric_values),2)\n",
    "    std_dev = round(np.std(numeric_values),2)\n",
    "    std_error = round(std_dev / np.sqrt(len(numeric_values)),2)\n",
    "\n",
    "        # Creating dictionary with our statistics\n",
    "    ca_stats[column] = {\n",
    "        'Mean': mean,\n",
    "        'Median': median,\n",
    "        'Variance': variance,\n",
    "        'Std. Deviation': std_dev,\n",
    "        'Std. Error': std_error\n",
    "    }\n",
    "# Print statistics for this reigon\n",
    "print('Statistics for Canada:')\n",
    "for column, stats in ca_stats.items():\n",
    "    print(f\"\\n{column}:\")\n",
    "    for stat, value in stats.items():\n",
    "        print(f\"{stat}: {value}\")\n",
    "    print('-' * 30)\n",
    "ca_stats_df = pd.DataFrame(ca_stats)"
   ]
  },
  {
   "cell_type": "code",
   "execution_count": 7,
   "id": "e7c57727-274a-42e3-80ce-0edc8a20e943",
   "metadata": {},
   "outputs": [
    {
     "name": "stdout",
     "output_type": "stream",
     "text": [
      "Statistics for the United States:\n",
      "\n",
      "views:\n",
<<<<<<< HEAD
      "Mean: 1350816.93\n",
      "Median: 925647.0\n",
      "Variance: 1399972045709.76\n",
      "Std. Deviation: 1183204.14\n",
      "Std. Error: 174453.93\n",
      "------------------------------\n",
      "\n",
      "comments:\n",
      "Mean: 4784.93\n",
      "Median: 2575.0\n",
      "Variance: 49448568.06\n",
      "Std. Deviation: 7031.97\n",
      "Std. Error: 1036.81\n",
=======
      "Mean: 1362010.22\n",
      "Median: 929993.0\n",
      "Variance: 1418298547231.39\n",
      "Std. Deviation: 1190923.4\n",
      "Std. Error: 175592.08\n",
      "------------------------------\n",
      "\n",
      "comments:\n",
      "Mean: 4803.3\n",
      "Median: 2578.0\n",
      "Variance: 49766812.65\n",
      "Std. Deviation: 7054.56\n",
      "Std. Error: 1040.14\n",
>>>>>>> 93fcbab9c1f61c260f46a4169105d2039af3a09c
      "------------------------------\n"
     ]
    }
   ],
   "source": [
    "#For USA \n",
    "numerical_columns = ['views', 'comments']\n",
    "us_stats = {}\n",
    "    # Iterate over each numerical column\n",
    "for column in numerical_columns:\n",
    "    numeric_values = pd.to_numeric(trending_videos_us[column], errors='coerce')\n",
    "    numeric_values = numeric_values.dropna()\n",
    "        \n",
    "        # Calculate statistics\n",
    "    mean = round(np.mean(numeric_values),2)\n",
    "    median = round(np.median(numeric_values),2)\n",
    "    variance = round(np.var(numeric_values),2)\n",
    "    std_dev = round(np.std(numeric_values),2)\n",
    "    std_error = round(std_dev / np.sqrt(len(numeric_values)),2)\n",
    "\n",
    "\n",
    "        # Creating dictionary with our statistics\n",
    "    us_stats[column] = {\n",
    "        'Mean': mean,\n",
    "        'Median': median,\n",
    "        'Variance': variance,\n",
    "        'Std. Deviation': std_dev,\n",
    "        'Std. Error': std_error\n",
    "    }\n",
    "# Print statistics for this reigon\n",
    "print('Statistics for the United States:')\n",
    "for column, stats in us_stats.items():\n",
    "    print(f\"\\n{column}:\")\n",
    "    for stat, value in stats.items():\n",
    "        print(f\"{stat}: {value}\")\n",
    "    print('-' * 30)\n",
    "us_stats_df = pd.DataFrame(us_stats)"
   ]
  },
  {
   "cell_type": "code",
   "execution_count": 8,
   "id": "581c8793-39fe-4135-a4cc-eb9b5ded5dac",
   "metadata": {},
   "outputs": [
    {
     "name": "stdout",
     "output_type": "stream",
     "text": [
      "Statistics for the United Kingdom:\n",
      "\n",
      "views:\n",
<<<<<<< HEAD
      "Mean: 1350816.93\n",
      "Median: 925647.0\n",
      "Variance: 1399972045709.76\n",
      "Std. Deviation: 1183204.14\n",
      "Std. Error: 174453.93\n",
      "------------------------------\n",
      "\n",
      "comments:\n",
      "Mean: 4784.93\n",
      "Median: 2575.0\n",
      "Variance: 49448568.06\n",
      "Std. Deviation: 7031.97\n",
      "Std. Error: 1036.81\n",
=======
      "Mean: 1362010.22\n",
      "Median: 929993.0\n",
      "Variance: 1418298547231.39\n",
      "Std. Deviation: 1190923.4\n",
      "Std. Error: 175592.08\n",
      "------------------------------\n",
      "\n",
      "comments:\n",
      "Mean: 4803.3\n",
      "Median: 2578.0\n",
      "Variance: 49766812.65\n",
      "Std. Deviation: 7054.56\n",
      "Std. Error: 1040.14\n",
>>>>>>> 93fcbab9c1f61c260f46a4169105d2039af3a09c
      "------------------------------\n"
     ]
    }
   ],
   "source": [
    "#For United Kingdom\n",
    "numerical_columns = ['views', 'comments']\n",
    "gb_stats = {}\n",
    "    # Iterate over each numerical column\n",
    "for column in numerical_columns:\n",
    "    numeric_values = pd.to_numeric(trending_videos_gb[column], errors='coerce')\n",
    "    numeric_values = numeric_values.dropna()\n",
    "        \n",
    "        # Calculate statistics\n",
    "    mean = round(np.mean(numeric_values),2)\n",
    "    median = round(np.median(numeric_values),2)\n",
    "    variance = round(np.var(numeric_values),2)\n",
    "    std_dev = round(np.std(numeric_values),2)\n",
    "    std_error = round(std_dev / np.sqrt(len(numeric_values)),2)\n",
    "\n",
    "        # Creating dictionary with our statistics\n",
    "    gb_stats[column] = {\n",
    "        'Mean': mean,\n",
    "        'Median': median,\n",
    "        'Variance': variance,\n",
    "        'Std. Deviation': std_dev,\n",
    "        'Std. Error': std_error\n",
    "    }\n",
    "# Print statistics for this reigon\n",
    "print('Statistics for the United Kingdom:')\n",
    "for column, stats in us_stats.items():\n",
    "    print(f\"\\n{column}:\")\n",
    "    for stat, value in stats.items():\n",
    "        print(f\"{stat}: {value}\")\n",
    "    print('-' * 30)\n",
    "gb_stats_df = pd.DataFrame(gb_stats)"
   ]
  },
  {
   "cell_type": "code",
<<<<<<< HEAD
   "execution_count": 10,
=======
   "execution_count": 9,
>>>>>>> 93fcbab9c1f61c260f46a4169105d2039af3a09c
   "id": "8dc7037d-d08c-4416-9eb1-0c7a2051ff1a",
   "metadata": {},
   "outputs": [
    {
     "data": {
<<<<<<< HEAD
      "image/png": "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",
=======
      "image/png": "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",
>>>>>>> 93fcbab9c1f61c260f46a4169105d2039af3a09c
      "text/plain": [
       "<Figure size 800x600 with 1 Axes>"
      ]
     },
     "metadata": {},
     "output_type": "display_data"
    }
   ],
   "source": [
    "views_means = pd.Series({\n",
    "    'Canada': ca_stats_df.loc['Mean']['views'],\n",
    "    'United States': us_stats_df.loc['Mean']['views'],\n",
    "    'United Kingdom': gb_stats_df.loc['Mean']['views']\n",
    "})\n",
    "#note: These numbers are in scientific notation due to the large number of views\n",
    "plt.figure(figsize=(8, 6))\n",
    "views_means.plot(kind='bar', color=['skyblue', 'lightgreen', 'lightcoral'])\n",
<<<<<<< HEAD
    "plt.title('Mean Values of Views Across Regions')\n",
=======
    "plt.title('Mean Values of Views (In millions) Across Regions')\n",
>>>>>>> 93fcbab9c1f61c260f46a4169105d2039af3a09c
    "plt.ylabel('Mean Value')\n",
    "plt.xlabel('Region')\n",
    "plt.xticks(rotation=0)\n",
    "plt.show()"
   ]
  },
  {
   "cell_type": "code",
   "execution_count": 11,
   "id": "a959c78b-5b03-4a38-8504-6aa7d9578634",
   "metadata": {},
   "outputs": [
    {
     "data": {
<<<<<<< HEAD
      "image/png": "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",
=======
      "image/png": "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",
>>>>>>> 93fcbab9c1f61c260f46a4169105d2039af3a09c
      "text/plain": [
       "<Figure size 800x600 with 1 Axes>"
      ]
     },
     "metadata": {},
     "output_type": "display_data"
    }
   ],
   "source": [
    "views_means = pd.Series({\n",
    "    'Canada': ca_stats_df.loc['Mean']['comments'],\n",
    "    'United States': us_stats_df.loc['Mean']['comments'],\n",
    "    'United Kingdom': gb_stats_df.loc['Mean']['comments']\n",
    "})\n",
    "\n",
    "plt.figure(figsize=(8, 6))\n",
    "views_means.plot(kind='bar', color=['skyblue', 'lightgreen', 'lightcoral'])\n",
<<<<<<< HEAD
    "plt.title('Mean Values of Comments Across Regions')\n",
=======
    "plt.title('Mean Values of Comments (In thousands) Across Regions')\n",
>>>>>>> 93fcbab9c1f61c260f46a4169105d2039af3a09c
    "plt.ylabel('Mean Value')\n",
    "plt.xlabel('Region')\n",
    "plt.xticks(rotation=0)\n",
    "plt.show()"
   ]
  },
  {
   "cell_type": "code",
   "execution_count": null,
   "id": "9f3ad232-8cc3-441a-9d62-b8b4e818d63a",
   "metadata": {},
   "outputs": [],
   "source": [
    "## Juan"
   ]
  },
  {
   "cell_type": "code",
   "execution_count": null,
   "id": "a2e99277-ad96-412f-b290-7fff5b0c9e2f",
   "metadata": {},
   "outputs": [],
   "source": [
    "## Amanda"
   ]
  },
  {
   "cell_type": "code",
   "execution_count": null,
   "id": "a92b4666-86d9-41b8-99aa-e943d3adb479",
   "metadata": {},
   "outputs": [],
   "source": [
    "## Shameer"
   ]
  }
 ],
 "metadata": {
  "kernelspec": {
   "display_name": "Python 3 (ipykernel)",
   "language": "python",
   "name": "python3"
  },
  "language_info": {
   "codemirror_mode": {
    "name": "ipython",
    "version": 3
   },
   "file_extension": ".py",
   "mimetype": "text/x-python",
   "name": "python",
   "nbconvert_exporter": "python",
   "pygments_lexer": "ipython3",
   "version": "3.11.7"
  }
 },
 "nbformat": 4,
 "nbformat_minor": 5
}
